{
 "cells": [
  {
   "cell_type": "markdown",
   "id": "ddb551f7-3797-4cc6-9279-d843b27283a4",
   "metadata": {
    "tags": []
   },
   "source": [
    "# Exploring multiclass classification algoritms on 'Correlation between posture and personality trait' data set"
   ]
  },
  {
   "cell_type": "markdown",
   "id": "7e0e6b18-77f3-4f1d-8174-a58039a753ac",
   "metadata": {},
   "source": [
    "## Introduction:\n",
    "Occupational back pain is a disorder that commonly affects the working population, resulting in disability, health-care utilization, and a heavy socioeconomic burden. Although the etiology of occupational pain remains largely unsolved, anecdotal evidence exists for the contribution of personality and posture to long-term pain management, pointing to a direct contribution of the mind-body axis. In the current study, we have conducted an extensive evaluation into the relationships between posture and personality.\n",
    "\n",
    "The results from the personality inventory (MBTI) came in the form of a combination of letters: Extraversion, Introversion, Sensing, Intuition, Thinking, Feeling, Judging, and Perceiving, and numbers, 1–26.\n",
    "\n",
    "The pain scale data consisted of a number between 0(low) to 10 (high).\n",
    "\n",
    "Posture - ideal posture (A), kyphosis-lordosis (B), flat back (C), sway-back (D)"
   ]
  },
  {
   "cell_type": "markdown",
   "id": "d7192811-2e6f-444f-b0ab-eb91fbb21aa3",
   "metadata": {},
   "source": [
    "### Information about the data set:\n",
    "I recently took an online '16 personalities test' and discovered a related data set on Kaggle that sparked my interest. I wondered if there was any correlation between personality traits and posture. My results showed that I am an introverted ISFJ. Good posture is crucial in how we are perceived by others, particularly for individuals like myself who work asb a model. This is why I decided to delve into this data set and examine the relationship between posture and personality traits."
   ]
  },
  {
   "cell_type": "markdown",
   "id": "7c5b0bbd-0640-4b49-b94f-c6677283bcc7",
   "metadata": {},
   "source": [
    "### Aims of the project:\n",
    "In this project I would like to explore various approaches in creating a multiclass classification model. I will attempt to predict the posture type based on the various features, including MBTI personality trait. "
   ]
  },
  {
   "cell_type": "markdown",
   "id": "a922d429-e9d4-4a3b-9b5a-3ff56b9e68db",
   "metadata": {},
   "source": [
    "### Data limitation:\n",
    "The data set used in this project is really small, with only 20 columns and 97 rows. The size of it may affect the performance and accuracy of the model. However, I decided to explore this data set anyway since it is interesting to me. "
   ]
  },
  {
   "cell_type": "markdown",
   "id": "3ec61c44-49e3-4289-9d77-b258b67f213b",
   "metadata": {},
   "source": [
    "### Ethics of the data:\n",
    "The data set was published on Kaggle, which means that it is publicly accessible and can be downloaded and used in data science projects by anyone. All references about the data set will be provided in the end of the notebook. "
   ]
  },
  {
   "cell_type": "code",
   "execution_count": 2,
   "id": "6851a7fd-50d1-49ce-bd77-7cc40423c066",
   "metadata": {},
   "outputs": [],
   "source": [
    "# importing essential liblaries\n",
    "import pandas as pd \n",
    "import numpy as np \n",
    "import matplotlib.pyplot as plt \n",
    "import seaborn as sns \n",
    "sns.set(style='darkgrid')"
   ]
  },
  {
   "cell_type": "markdown",
   "id": "467dbb77-b35a-4a86-8ff3-e48a9393e293",
   "metadata": {},
   "source": [
    "I downloaded the dataset and saved it as 'postire.csv' on my computer.  "
   ]
  },
  {
   "cell_type": "code",
   "execution_count": 3,
   "id": "e78402ce-2100-4b79-95a2-b1987c37cb91",
   "metadata": {},
   "outputs": [],
   "source": [
    "df = pd.read_csv('posture.csv')"
   ]
  },
  {
   "cell_type": "markdown",
   "id": "edad8ab8-49a8-4dbb-8181-3abe410fd334",
   "metadata": {},
   "source": [
    "Let's check the dataset. "
   ]
  },
  {
   "cell_type": "code",
   "execution_count": 4,
   "id": "80435ab7-0cda-4fde-b0cb-82caabb2de55",
   "metadata": {},
   "outputs": [
    {
     "data": {
      "text/html": [
       "<div>\n",
       "<style scoped>\n",
       "    .dataframe tbody tr th:only-of-type {\n",
       "        vertical-align: middle;\n",
       "    }\n",
       "\n",
       "    .dataframe tbody tr th {\n",
       "        vertical-align: top;\n",
       "    }\n",
       "\n",
       "    .dataframe thead th {\n",
       "        text-align: right;\n",
       "    }\n",
       "</style>\n",
       "<table border=\"1\" class=\"dataframe\">\n",
       "  <thead>\n",
       "    <tr style=\"text-align: right;\">\n",
       "      <th></th>\n",
       "      <th>S No</th>\n",
       "      <th>AGE</th>\n",
       "      <th>HEIGHT</th>\n",
       "      <th>WEIGHT</th>\n",
       "      <th>SEX</th>\n",
       "      <th>ACTIVITY LEVEL</th>\n",
       "      <th>PAIN 1</th>\n",
       "      <th>PAIN 2</th>\n",
       "      <th>PAIN 3</th>\n",
       "      <th>PAIN 4</th>\n",
       "      <th>MBTI</th>\n",
       "      <th>E</th>\n",
       "      <th>I</th>\n",
       "      <th>S</th>\n",
       "      <th>N</th>\n",
       "      <th>T</th>\n",
       "      <th>F</th>\n",
       "      <th>J</th>\n",
       "      <th>P</th>\n",
       "      <th>POSTURE</th>\n",
       "    </tr>\n",
       "  </thead>\n",
       "  <tbody>\n",
       "    <tr>\n",
       "      <th>0</th>\n",
       "      <td>1</td>\n",
       "      <td>53</td>\n",
       "      <td>62</td>\n",
       "      <td>125</td>\n",
       "      <td>Female</td>\n",
       "      <td>Low</td>\n",
       "      <td>0.0</td>\n",
       "      <td>0.0</td>\n",
       "      <td>0.0</td>\n",
       "      <td>0.0</td>\n",
       "      <td>ESFJ</td>\n",
       "      <td>18</td>\n",
       "      <td>3</td>\n",
       "      <td>17</td>\n",
       "      <td>9</td>\n",
       "      <td>9</td>\n",
       "      <td>13</td>\n",
       "      <td>18</td>\n",
       "      <td>4</td>\n",
       "      <td>A</td>\n",
       "    </tr>\n",
       "    <tr>\n",
       "      <th>1</th>\n",
       "      <td>2</td>\n",
       "      <td>52</td>\n",
       "      <td>69</td>\n",
       "      <td>157</td>\n",
       "      <td>Male</td>\n",
       "      <td>High</td>\n",
       "      <td>7.0</td>\n",
       "      <td>8.0</td>\n",
       "      <td>5.0</td>\n",
       "      <td>3.0</td>\n",
       "      <td>ISTJ</td>\n",
       "      <td>6</td>\n",
       "      <td>15</td>\n",
       "      <td>14</td>\n",
       "      <td>12</td>\n",
       "      <td>21</td>\n",
       "      <td>3</td>\n",
       "      <td>13</td>\n",
       "      <td>9</td>\n",
       "      <td>B</td>\n",
       "    </tr>\n",
       "    <tr>\n",
       "      <th>2</th>\n",
       "      <td>3</td>\n",
       "      <td>30</td>\n",
       "      <td>69</td>\n",
       "      <td>200</td>\n",
       "      <td>Male</td>\n",
       "      <td>High</td>\n",
       "      <td>0.0</td>\n",
       "      <td>0.0</td>\n",
       "      <td>0.0</td>\n",
       "      <td>0.0</td>\n",
       "      <td>ESTJ</td>\n",
       "      <td>15</td>\n",
       "      <td>6</td>\n",
       "      <td>16</td>\n",
       "      <td>10</td>\n",
       "      <td>15</td>\n",
       "      <td>9</td>\n",
       "      <td>12</td>\n",
       "      <td>10</td>\n",
       "      <td>A</td>\n",
       "    </tr>\n",
       "    <tr>\n",
       "      <th>3</th>\n",
       "      <td>4</td>\n",
       "      <td>51</td>\n",
       "      <td>66</td>\n",
       "      <td>175</td>\n",
       "      <td>Male</td>\n",
       "      <td>Moderate</td>\n",
       "      <td>9.5</td>\n",
       "      <td>9.5</td>\n",
       "      <td>9.5</td>\n",
       "      <td>1.5</td>\n",
       "      <td>ISTJ</td>\n",
       "      <td>6</td>\n",
       "      <td>15</td>\n",
       "      <td>21</td>\n",
       "      <td>5</td>\n",
       "      <td>13</td>\n",
       "      <td>11</td>\n",
       "      <td>19</td>\n",
       "      <td>3</td>\n",
       "      <td>D</td>\n",
       "    </tr>\n",
       "    <tr>\n",
       "      <th>4</th>\n",
       "      <td>5</td>\n",
       "      <td>45</td>\n",
       "      <td>63</td>\n",
       "      <td>199</td>\n",
       "      <td>Female</td>\n",
       "      <td>Moderate</td>\n",
       "      <td>4.0</td>\n",
       "      <td>5.0</td>\n",
       "      <td>2.0</td>\n",
       "      <td>2.0</td>\n",
       "      <td>ENFJ</td>\n",
       "      <td>14</td>\n",
       "      <td>7</td>\n",
       "      <td>20</td>\n",
       "      <td>6</td>\n",
       "      <td>9</td>\n",
       "      <td>15</td>\n",
       "      <td>16</td>\n",
       "      <td>6</td>\n",
       "      <td>A</td>\n",
       "    </tr>\n",
       "    <tr>\n",
       "      <th>...</th>\n",
       "      <td>...</td>\n",
       "      <td>...</td>\n",
       "      <td>...</td>\n",
       "      <td>...</td>\n",
       "      <td>...</td>\n",
       "      <td>...</td>\n",
       "      <td>...</td>\n",
       "      <td>...</td>\n",
       "      <td>...</td>\n",
       "      <td>...</td>\n",
       "      <td>...</td>\n",
       "      <td>...</td>\n",
       "      <td>...</td>\n",
       "      <td>...</td>\n",
       "      <td>...</td>\n",
       "      <td>...</td>\n",
       "      <td>...</td>\n",
       "      <td>...</td>\n",
       "      <td>...</td>\n",
       "      <td>...</td>\n",
       "    </tr>\n",
       "    <tr>\n",
       "      <th>92</th>\n",
       "      <td>93</td>\n",
       "      <td>16</td>\n",
       "      <td>58</td>\n",
       "      <td>100</td>\n",
       "      <td>Male</td>\n",
       "      <td>Moderate</td>\n",
       "      <td>0.0</td>\n",
       "      <td>0.0</td>\n",
       "      <td>0.0</td>\n",
       "      <td>3.0</td>\n",
       "      <td>ESTP</td>\n",
       "      <td>19</td>\n",
       "      <td>2</td>\n",
       "      <td>22</td>\n",
       "      <td>4</td>\n",
       "      <td>19</td>\n",
       "      <td>5</td>\n",
       "      <td>2</td>\n",
       "      <td>20</td>\n",
       "      <td>B</td>\n",
       "    </tr>\n",
       "    <tr>\n",
       "      <th>93</th>\n",
       "      <td>94</td>\n",
       "      <td>45</td>\n",
       "      <td>62</td>\n",
       "      <td>134</td>\n",
       "      <td>Female</td>\n",
       "      <td>Moderate</td>\n",
       "      <td>0.0</td>\n",
       "      <td>4.0</td>\n",
       "      <td>0.0</td>\n",
       "      <td>0.0</td>\n",
       "      <td>ESFJ</td>\n",
       "      <td>11</td>\n",
       "      <td>10</td>\n",
       "      <td>17</td>\n",
       "      <td>9</td>\n",
       "      <td>6</td>\n",
       "      <td>18</td>\n",
       "      <td>13</td>\n",
       "      <td>9</td>\n",
       "      <td>B</td>\n",
       "    </tr>\n",
       "    <tr>\n",
       "      <th>94</th>\n",
       "      <td>95</td>\n",
       "      <td>43</td>\n",
       "      <td>69</td>\n",
       "      <td>188</td>\n",
       "      <td>Male</td>\n",
       "      <td>Moderate</td>\n",
       "      <td>2.0</td>\n",
       "      <td>0.0</td>\n",
       "      <td>0.0</td>\n",
       "      <td>0.0</td>\n",
       "      <td>ENFP</td>\n",
       "      <td>12</td>\n",
       "      <td>9</td>\n",
       "      <td>9</td>\n",
       "      <td>17</td>\n",
       "      <td>6</td>\n",
       "      <td>18</td>\n",
       "      <td>2</td>\n",
       "      <td>20</td>\n",
       "      <td>A</td>\n",
       "    </tr>\n",
       "    <tr>\n",
       "      <th>95</th>\n",
       "      <td>96</td>\n",
       "      <td>28</td>\n",
       "      <td>67</td>\n",
       "      <td>180</td>\n",
       "      <td>Female</td>\n",
       "      <td>Low</td>\n",
       "      <td>0.0</td>\n",
       "      <td>0.0</td>\n",
       "      <td>0.0</td>\n",
       "      <td>0.0</td>\n",
       "      <td>ESFJ</td>\n",
       "      <td>11</td>\n",
       "      <td>10</td>\n",
       "      <td>22</td>\n",
       "      <td>14</td>\n",
       "      <td>8</td>\n",
       "      <td>16</td>\n",
       "      <td>14</td>\n",
       "      <td>8</td>\n",
       "      <td>B</td>\n",
       "    </tr>\n",
       "    <tr>\n",
       "      <th>96</th>\n",
       "      <td>97</td>\n",
       "      <td>43</td>\n",
       "      <td>69</td>\n",
       "      <td>188</td>\n",
       "      <td>Male</td>\n",
       "      <td>Moderate</td>\n",
       "      <td>4.0</td>\n",
       "      <td>0.0</td>\n",
       "      <td>0.0</td>\n",
       "      <td>0.0</td>\n",
       "      <td>ENFP</td>\n",
       "      <td>12</td>\n",
       "      <td>9</td>\n",
       "      <td>9</td>\n",
       "      <td>17</td>\n",
       "      <td>6</td>\n",
       "      <td>18</td>\n",
       "      <td>2</td>\n",
       "      <td>20</td>\n",
       "      <td>A</td>\n",
       "    </tr>\n",
       "  </tbody>\n",
       "</table>\n",
       "<p>97 rows × 20 columns</p>\n",
       "</div>"
      ],
      "text/plain": [
       "    S No  AGE  HEIGHT  WEIGHT     SEX ACTIVITY LEVEL  PAIN 1  PAIN 2  PAIN 3  \\\n",
       "0      1   53      62     125  Female            Low     0.0     0.0     0.0   \n",
       "1      2   52      69     157    Male           High     7.0     8.0     5.0   \n",
       "2      3   30      69     200    Male           High     0.0     0.0     0.0   \n",
       "3      4   51      66     175    Male       Moderate     9.5     9.5     9.5   \n",
       "4      5   45      63     199  Female       Moderate     4.0     5.0     2.0   \n",
       "..   ...  ...     ...     ...     ...            ...     ...     ...     ...   \n",
       "92    93   16      58     100    Male       Moderate     0.0     0.0     0.0   \n",
       "93    94   45      62     134  Female       Moderate     0.0     4.0     0.0   \n",
       "94    95   43      69     188    Male       Moderate     2.0     0.0     0.0   \n",
       "95    96   28      67     180  Female            Low     0.0     0.0     0.0   \n",
       "96    97   43      69     188    Male       Moderate     4.0     0.0     0.0   \n",
       "\n",
       "    PAIN 4  MBTI   E   I   S   N   T   F   J   P POSTURE  \n",
       "0      0.0  ESFJ  18   3  17   9   9  13  18   4       A  \n",
       "1      3.0  ISTJ   6  15  14  12  21   3  13   9       B  \n",
       "2      0.0  ESTJ  15   6  16  10  15   9  12  10       A  \n",
       "3      1.5  ISTJ   6  15  21   5  13  11  19   3       D  \n",
       "4      2.0  ENFJ  14   7  20   6   9  15  16   6       A  \n",
       "..     ...   ...  ..  ..  ..  ..  ..  ..  ..  ..     ...  \n",
       "92     3.0  ESTP  19   2  22   4  19   5   2  20       B  \n",
       "93     0.0  ESFJ  11  10  17   9   6  18  13   9       B  \n",
       "94     0.0  ENFP  12   9   9  17   6  18   2  20       A  \n",
       "95     0.0  ESFJ  11  10  22  14   8  16  14   8       B  \n",
       "96     0.0  ENFP  12   9   9  17   6  18   2  20       A  \n",
       "\n",
       "[97 rows x 20 columns]"
      ]
     },
     "execution_count": 4,
     "metadata": {},
     "output_type": "execute_result"
    }
   ],
   "source": [
    "df"
   ]
  },
  {
   "cell_type": "code",
   "execution_count": 5,
   "id": "1c2027fb-411c-460b-9ed1-3be57be78e4b",
   "metadata": {},
   "outputs": [
    {
     "data": {
      "text/html": [
       "<div>\n",
       "<style scoped>\n",
       "    .dataframe tbody tr th:only-of-type {\n",
       "        vertical-align: middle;\n",
       "    }\n",
       "\n",
       "    .dataframe tbody tr th {\n",
       "        vertical-align: top;\n",
       "    }\n",
       "\n",
       "    .dataframe thead th {\n",
       "        text-align: right;\n",
       "    }\n",
       "</style>\n",
       "<table border=\"1\" class=\"dataframe\">\n",
       "  <thead>\n",
       "    <tr style=\"text-align: right;\">\n",
       "      <th></th>\n",
       "      <th>S No</th>\n",
       "      <th>AGE</th>\n",
       "      <th>HEIGHT</th>\n",
       "      <th>WEIGHT</th>\n",
       "      <th>PAIN 1</th>\n",
       "      <th>PAIN 2</th>\n",
       "      <th>PAIN 3</th>\n",
       "      <th>PAIN 4</th>\n",
       "      <th>E</th>\n",
       "      <th>I</th>\n",
       "      <th>S</th>\n",
       "      <th>N</th>\n",
       "      <th>T</th>\n",
       "      <th>F</th>\n",
       "      <th>J</th>\n",
       "      <th>P</th>\n",
       "    </tr>\n",
       "  </thead>\n",
       "  <tbody>\n",
       "    <tr>\n",
       "      <th>count</th>\n",
       "      <td>97.000000</td>\n",
       "      <td>97.000000</td>\n",
       "      <td>97.000000</td>\n",
       "      <td>97.00000</td>\n",
       "      <td>97.000000</td>\n",
       "      <td>97.000000</td>\n",
       "      <td>97.000000</td>\n",
       "      <td>97.000000</td>\n",
       "      <td>97.000000</td>\n",
       "      <td>97.000000</td>\n",
       "      <td>97.000000</td>\n",
       "      <td>97.000000</td>\n",
       "      <td>97.000000</td>\n",
       "      <td>97.000000</td>\n",
       "      <td>97.000000</td>\n",
       "      <td>97.000000</td>\n",
       "    </tr>\n",
       "    <tr>\n",
       "      <th>mean</th>\n",
       "      <td>49.000000</td>\n",
       "      <td>43.855670</td>\n",
       "      <td>65.731959</td>\n",
       "      <td>159.43299</td>\n",
       "      <td>2.139175</td>\n",
       "      <td>3.747423</td>\n",
       "      <td>1.943299</td>\n",
       "      <td>2.530928</td>\n",
       "      <td>12.690722</td>\n",
       "      <td>8.288660</td>\n",
       "      <td>15.134021</td>\n",
       "      <td>11.041237</td>\n",
       "      <td>10.505155</td>\n",
       "      <td>13.443299</td>\n",
       "      <td>10.319588</td>\n",
       "      <td>11.680412</td>\n",
       "    </tr>\n",
       "    <tr>\n",
       "      <th>std</th>\n",
       "      <td>28.145456</td>\n",
       "      <td>16.776093</td>\n",
       "      <td>3.737522</td>\n",
       "      <td>36.19591</td>\n",
       "      <td>2.572635</td>\n",
       "      <td>3.191071</td>\n",
       "      <td>2.587909</td>\n",
       "      <td>3.111483</td>\n",
       "      <td>5.717956</td>\n",
       "      <td>5.697146</td>\n",
       "      <td>4.833970</td>\n",
       "      <td>4.732242</td>\n",
       "      <td>5.332924</td>\n",
       "      <td>5.297344</td>\n",
       "      <td>5.727395</td>\n",
       "      <td>5.711003</td>\n",
       "    </tr>\n",
       "    <tr>\n",
       "      <th>min</th>\n",
       "      <td>1.000000</td>\n",
       "      <td>11.000000</td>\n",
       "      <td>58.000000</td>\n",
       "      <td>68.00000</td>\n",
       "      <td>0.000000</td>\n",
       "      <td>0.000000</td>\n",
       "      <td>0.000000</td>\n",
       "      <td>0.000000</td>\n",
       "      <td>2.000000</td>\n",
       "      <td>0.000000</td>\n",
       "      <td>5.000000</td>\n",
       "      <td>1.000000</td>\n",
       "      <td>0.000000</td>\n",
       "      <td>2.000000</td>\n",
       "      <td>0.000000</td>\n",
       "      <td>2.000000</td>\n",
       "    </tr>\n",
       "    <tr>\n",
       "      <th>25%</th>\n",
       "      <td>25.000000</td>\n",
       "      <td>30.000000</td>\n",
       "      <td>63.000000</td>\n",
       "      <td>135.00000</td>\n",
       "      <td>0.000000</td>\n",
       "      <td>0.000000</td>\n",
       "      <td>0.000000</td>\n",
       "      <td>0.000000</td>\n",
       "      <td>8.000000</td>\n",
       "      <td>3.000000</td>\n",
       "      <td>12.000000</td>\n",
       "      <td>7.000000</td>\n",
       "      <td>6.000000</td>\n",
       "      <td>10.000000</td>\n",
       "      <td>5.000000</td>\n",
       "      <td>6.000000</td>\n",
       "    </tr>\n",
       "    <tr>\n",
       "      <th>50%</th>\n",
       "      <td>49.000000</td>\n",
       "      <td>45.000000</td>\n",
       "      <td>66.000000</td>\n",
       "      <td>157.00000</td>\n",
       "      <td>1.000000</td>\n",
       "      <td>3.000000</td>\n",
       "      <td>0.500000</td>\n",
       "      <td>0.000000</td>\n",
       "      <td>13.000000</td>\n",
       "      <td>8.000000</td>\n",
       "      <td>15.000000</td>\n",
       "      <td>11.000000</td>\n",
       "      <td>11.000000</td>\n",
       "      <td>13.000000</td>\n",
       "      <td>11.000000</td>\n",
       "      <td>11.000000</td>\n",
       "    </tr>\n",
       "    <tr>\n",
       "      <th>75%</th>\n",
       "      <td>73.000000</td>\n",
       "      <td>56.000000</td>\n",
       "      <td>68.000000</td>\n",
       "      <td>183.00000</td>\n",
       "      <td>4.000000</td>\n",
       "      <td>7.000000</td>\n",
       "      <td>3.500000</td>\n",
       "      <td>5.000000</td>\n",
       "      <td>18.000000</td>\n",
       "      <td>13.000000</td>\n",
       "      <td>19.000000</td>\n",
       "      <td>14.000000</td>\n",
       "      <td>14.000000</td>\n",
       "      <td>18.000000</td>\n",
       "      <td>16.000000</td>\n",
       "      <td>17.000000</td>\n",
       "    </tr>\n",
       "    <tr>\n",
       "      <th>max</th>\n",
       "      <td>97.000000</td>\n",
       "      <td>82.000000</td>\n",
       "      <td>74.000000</td>\n",
       "      <td>263.00000</td>\n",
       "      <td>9.500000</td>\n",
       "      <td>10.000000</td>\n",
       "      <td>10.000000</td>\n",
       "      <td>10.000000</td>\n",
       "      <td>21.000000</td>\n",
       "      <td>19.000000</td>\n",
       "      <td>25.000000</td>\n",
       "      <td>21.000000</td>\n",
       "      <td>22.000000</td>\n",
       "      <td>24.000000</td>\n",
       "      <td>20.000000</td>\n",
       "      <td>22.000000</td>\n",
       "    </tr>\n",
       "  </tbody>\n",
       "</table>\n",
       "</div>"
      ],
      "text/plain": [
       "            S No        AGE     HEIGHT     WEIGHT     PAIN 1     PAIN 2  \\\n",
       "count  97.000000  97.000000  97.000000   97.00000  97.000000  97.000000   \n",
       "mean   49.000000  43.855670  65.731959  159.43299   2.139175   3.747423   \n",
       "std    28.145456  16.776093   3.737522   36.19591   2.572635   3.191071   \n",
       "min     1.000000  11.000000  58.000000   68.00000   0.000000   0.000000   \n",
       "25%    25.000000  30.000000  63.000000  135.00000   0.000000   0.000000   \n",
       "50%    49.000000  45.000000  66.000000  157.00000   1.000000   3.000000   \n",
       "75%    73.000000  56.000000  68.000000  183.00000   4.000000   7.000000   \n",
       "max    97.000000  82.000000  74.000000  263.00000   9.500000  10.000000   \n",
       "\n",
       "          PAIN 3     PAIN 4          E          I          S          N  \\\n",
       "count  97.000000  97.000000  97.000000  97.000000  97.000000  97.000000   \n",
       "mean    1.943299   2.530928  12.690722   8.288660  15.134021  11.041237   \n",
       "std     2.587909   3.111483   5.717956   5.697146   4.833970   4.732242   \n",
       "min     0.000000   0.000000   2.000000   0.000000   5.000000   1.000000   \n",
       "25%     0.000000   0.000000   8.000000   3.000000  12.000000   7.000000   \n",
       "50%     0.500000   0.000000  13.000000   8.000000  15.000000  11.000000   \n",
       "75%     3.500000   5.000000  18.000000  13.000000  19.000000  14.000000   \n",
       "max    10.000000  10.000000  21.000000  19.000000  25.000000  21.000000   \n",
       "\n",
       "               T          F          J          P  \n",
       "count  97.000000  97.000000  97.000000  97.000000  \n",
       "mean   10.505155  13.443299  10.319588  11.680412  \n",
       "std     5.332924   5.297344   5.727395   5.711003  \n",
       "min     0.000000   2.000000   0.000000   2.000000  \n",
       "25%     6.000000  10.000000   5.000000   6.000000  \n",
       "50%    11.000000  13.000000  11.000000  11.000000  \n",
       "75%    14.000000  18.000000  16.000000  17.000000  \n",
       "max    22.000000  24.000000  20.000000  22.000000  "
      ]
     },
     "execution_count": 5,
     "metadata": {},
     "output_type": "execute_result"
    }
   ],
   "source": [
    "df.describe()"
   ]
  },
  {
   "cell_type": "markdown",
   "id": "c16f75ac-00ae-4dbb-b242-17dfef048915",
   "metadata": {},
   "source": [
    "By looking at the table above, there is nothing suspicious about the data set. \n",
    "Let's have a look and check if there are any missing values."
   ]
  },
  {
   "cell_type": "code",
   "execution_count": 6,
   "id": "deafe54a-b78b-4d98-91d8-05cb81ef78ba",
   "metadata": {},
   "outputs": [
    {
     "data": {
      "text/plain": [
       "S No              False\n",
       "AGE               False\n",
       "HEIGHT            False\n",
       "WEIGHT            False\n",
       "SEX               False\n",
       "ACTIVITY LEVEL    False\n",
       "PAIN 1            False\n",
       "PAIN 2            False\n",
       "PAIN 3            False\n",
       "PAIN 4            False\n",
       "MBTI              False\n",
       "E                 False\n",
       "I                 False\n",
       "S                 False\n",
       "N                 False\n",
       "T                 False\n",
       "F                 False\n",
       "J                 False\n",
       "P                 False\n",
       "POSTURE           False\n",
       "dtype: bool"
      ]
     },
     "execution_count": 6,
     "metadata": {},
     "output_type": "execute_result"
    }
   ],
   "source": [
    "df.isnull().any()"
   ]
  },
  {
   "cell_type": "markdown",
   "id": "7bfd61b0-6d50-4fa1-9685-5214b3d3b135",
   "metadata": {},
   "source": [
    "Looks like there are no missing values. \n",
    "Now I will check the data types of our variables. "
   ]
  },
  {
   "cell_type": "code",
   "execution_count": 7,
   "id": "d89d3699-6578-41f4-bc45-4287d6a67986",
   "metadata": {},
   "outputs": [
    {
     "data": {
      "text/plain": [
       "S No                int64\n",
       "AGE                 int64\n",
       "HEIGHT              int64\n",
       "WEIGHT              int64\n",
       "SEX                object\n",
       "ACTIVITY LEVEL     object\n",
       "PAIN 1            float64\n",
       "PAIN 2            float64\n",
       "PAIN 3            float64\n",
       "PAIN 4            float64\n",
       "MBTI               object\n",
       "E                   int64\n",
       "I                   int64\n",
       "S                   int64\n",
       "N                   int64\n",
       "T                   int64\n",
       "F                   int64\n",
       "J                   int64\n",
       "P                   int64\n",
       "POSTURE            object\n",
       "dtype: object"
      ]
     },
     "execution_count": 7,
     "metadata": {},
     "output_type": "execute_result"
    }
   ],
   "source": [
    "df.dtypes"
   ]
  },
  {
   "cell_type": "markdown",
   "id": "a0071e5c-3084-46e1-9092-2752cb1d4699",
   "metadata": {},
   "source": [
    "There is also nothing special about the data types of the columns. Looks like all categorical columns, like sex, activity level and posture have string data type. In futher process, I will convert it to a numerical types, which enables me to use the data set in a machine learning model. "
   ]
  },
  {
   "cell_type": "markdown",
   "id": "834ff5e4-7fe0-4aaf-8a33-9cd9bcfa323f",
   "metadata": {
    "tags": []
   },
   "source": [
    "### Exploratory data analysis \n",
    "In this step I will perform visualisations on the data set in order to get more insights of the data as well as better understanding of it. "
   ]
  },
  {
   "cell_type": "code",
   "execution_count": 8,
   "id": "23b6f260-4434-407b-b49a-f9c8aed80ba2",
   "metadata": {},
   "outputs": [
    {
     "data": {
      "image/png": "[encoded data removed]",
      "text/plain": [
       "<Figure size 1000x600 with 1 Axes>"
      ]
     },
     "metadata": {},
     "output_type": "display_data"
    }
   ],
   "source": [
    "plt.figure(figsize=(10,6))\n",
    "ax = sns.countplot(x='MBTI', data = df, order = df['MBTI'].value_counts().index)\n",
    "ax.set_title('Occurance of each personality type',fontsize=15)\n",
    "plt.show()"
   ]
  },
  {
   "cell_type": "markdown",
   "id": "0676ec2f-4b0d-49b7-9e90-4f01d611cabd",
   "metadata": {},
   "source": [
    "It can be seen in the plot above that the extroverts take the first 5 places with the highest count. The most popular peronality type is ESFP, the last popular - INTJ. "
   ]
  },
  {
   "cell_type": "code",
   "execution_count": 9,
   "id": "aca3c74a-6b68-4c2b-832f-31e9cb93cd62",
   "metadata": {},
   "outputs": [
    {
     "data": {
      "image/png": "[encoded data removed]",
      "text/plain": [
       "<Figure size 1000x600 with 1 Axes>"
      ]
     },
     "metadata": {},
     "output_type": "display_data"
    }
   ],
   "source": [
    "plt.figure(figsize=(10,6))\n",
    "ax = sns.countplot(x='POSTURE', data = df, hue='SEX')\n",
    "ax.set_title('Occurance of the posture types based on sex',fontsize=15)\n",
    "plt.show()"
   ]
  },
  {
   "cell_type": "markdown",
   "id": "3ec6bf3f-a4c4-4c47-8121-0cdb059379ec",
   "metadata": {},
   "source": [
    "From the plot, it can be inferred that men have better posture compared to women. However, the prevalence of other posture types, such as kyphosis-lordosis and sway-back, is higher in women than in men. Only the flat back posture is more prevalent among men."
   ]
  },
  {
   "cell_type": "markdown",
   "id": "fa8523a5-c766-446d-9e8a-271afd585d19",
   "metadata": {},
   "source": [
    "Now let's explore the differences between the introverts and the extroverts. "
   ]
  },
  {
   "cell_type": "code",
   "execution_count": 10,
   "id": "9c40fbeb-a670-4ca9-98b4-e19903dfd6a5",
   "metadata": {},
   "outputs": [],
   "source": [
    "extroverts = df[df[\"E\"] > df[\"I\"]]\n",
    "introverts = df[df[\"I\"] >= df[\"E\"]]"
   ]
  },
  {
   "cell_type": "code",
   "execution_count": 11,
   "id": "b1520ef5-c428-499f-9493-cb15c370980c",
   "metadata": {},
   "outputs": [
    {
     "name": "stderr",
     "output_type": "stream",
     "text": [
      "/var/folders/j2/mzg4562d1tldwwf84136fq8h0000gn/T/ipykernel_7987/2810295297.py:9: UserWarning: Matplotlib is currently using module://matplotlib_inline.backend_inline, which is a non-GUI backend, so cannot show the figure.\n",
      "  fig.show()\n"
     ]
    },
    {
     "data": {
      "image/png": "[encoded data removed]",
      "text/plain": [
       "<Figure size 1200x500 with 2 Axes>"
      ]
     },
     "metadata": {},
     "output_type": "display_data"
    }
   ],
   "source": [
    "fig, ax = plt.subplots(1,2,figsize=(12,5))\n",
    "\n",
    "sns.countplot( x = introverts['POSTURE'], ax=ax[0],  order = introverts['POSTURE'].value_counts().index)\n",
    "ax[0].set_title('Introverts')\n",
    "\n",
    "sns.countplot( x = extroverts['POSTURE'], ax=ax[1], order = extroverts['POSTURE'].value_counts().index)\n",
    "ax[1].set_title('Extroverts')\n",
    "\n",
    "fig.show()"
   ]
  },
  {
   "cell_type": "markdown",
   "id": "19c69c49-5bc1-4e35-8d9b-089f0899d6fa",
   "metadata": {},
   "source": [
    "It is interesting to see that in general, introverts have worse posture than extroverts. It can be caused by many factors, for example how one spends free time, the level of activity, seeking out social situations and lifestyle habits. \n",
    "Now let's have a look at the correlation between posture and activity level."
   ]
  },
  {
   "cell_type": "code",
   "execution_count": 12,
   "id": "150caa91-8f99-4f44-9552-fbeaa4b7a5b0",
   "metadata": {},
   "outputs": [
    {
     "data": {
      "image/png": "[encoded data removed]",
      "text/plain": [
       "<Figure size 1000x600 with 1 Axes>"
      ]
     },
     "metadata": {},
     "output_type": "display_data"
    }
   ],
   "source": [
    "grouped = df.groupby(['ACTIVITY LEVEL', 'POSTURE']).size().unstack()\n",
    "grouped.plot(kind='bar',figsize=(10,6),title='Relationship between activity level and posture')\n",
    "plt.show()"
   ]
  },
  {
   "cell_type": "markdown",
   "id": "ec6ad4ae-598c-4412-bb27-8ffd3f7f560b",
   "metadata": {},
   "source": [
    "From the plot above it can be infered that low activity may result in bad posture, especially kyphosis-lordosis, sway back and flat back. However, a lot of people have also vera good poster with low activity level. High activity level helps with keeping good posture, however not particualry.  "
   ]
  },
  {
   "cell_type": "code",
   "execution_count": 13,
   "id": "bbee8857-2a1d-4273-8d11-3347221bcc3f",
   "metadata": {},
   "outputs": [
    {
     "data": {
      "image/png": "[encoded data removed]",
      "text/plain": [
       "<Figure size 1000x600 with 1 Axes>"
      ]
     },
     "metadata": {},
     "output_type": "display_data"
    }
   ],
   "source": [
    "plt.figure(figsize=(10,6))\n",
    "plt.title(\"Ranking of MBTI types with good posture\")\n",
    "df[df[\"POSTURE\"] == \"A\"].MBTI.value_counts().plot.bar()\n",
    "plt.show()"
   ]
  },
  {
   "cell_type": "markdown",
   "id": "2d043062-87f6-41b0-a253-1b23f2362b8f",
   "metadata": {},
   "source": [
    "As one can see in the plot above, there is the highest number of people with a good posture who have an ENFP personality type. There is only one personality from introvetrs group which has a good posture: ISFJ, which is actually my personality type). "
   ]
  },
  {
   "cell_type": "code",
   "execution_count": 14,
   "id": "f8cb5a40-ab8c-435e-9b3c-96e8e3222ded",
   "metadata": {},
   "outputs": [
    {
     "data": {
      "text/plain": [
       "<AxesSubplot: title={'center': 'Ranking of MBTI types with kyphosis-lordosis'}>"
      ]
     },
     "execution_count": 14,
     "metadata": {},
     "output_type": "execute_result"
    },
    {
     "data": {
      "image/png": "[encoded data removed]",
      "text/plain": [
       "<Figure size 1000x600 with 1 Axes>"
      ]
     },
     "metadata": {},
     "output_type": "display_data"
    }
   ],
   "source": [
    "plt.figure(figsize=(10,6))\n",
    "plt.title(\"Ranking of MBTI types with kyphosis-lordosis\")\n",
    "df[df[\"POSTURE\"] == \"B\"].MBTI.value_counts().plot.bar()"
   ]
  },
  {
   "cell_type": "markdown",
   "id": "5ca4070a-74f8-438e-b4f0-ff7ac144e538",
   "metadata": {},
   "source": [
    "Most people with ESTP and ESFJ personality types have hyphosis-lordosis. "
   ]
  },
  {
   "cell_type": "code",
   "execution_count": 15,
   "id": "27880c2e-fe14-42a7-a162-16de66432c46",
   "metadata": {},
   "outputs": [
    {
     "data": {
      "text/plain": [
       "<AxesSubplot: title={'center': 'Ranking of MBTI types with flat back'}>"
      ]
     },
     "execution_count": 15,
     "metadata": {},
     "output_type": "execute_result"
    },
    {
     "data": {
      "image/png": "[encoded data removed]",
      "text/plain": [
       "<Figure size 1000x600 with 1 Axes>"
      ]
     },
     "metadata": {},
     "output_type": "display_data"
    }
   ],
   "source": [
    "plt.figure(figsize=(10,6))\n",
    "plt.title(\"Ranking of MBTI types with flat back\")\n",
    "df[df[\"POSTURE\"] == \"C\"].MBTI.value_counts().plot.bar()"
   ]
  },
  {
   "cell_type": "markdown",
   "id": "0a5b37b8-353d-4b8c-b520-02c5cba99969",
   "metadata": {},
   "source": [
    "On the plot above we can see that the most people with ISFJ peronality type have flat back."
   ]
  },
  {
   "cell_type": "code",
   "execution_count": 16,
   "id": "0c5252a3-94b7-4e2e-ab85-6467c4edf20b",
   "metadata": {},
   "outputs": [
    {
     "data": {
      "text/plain": [
       "<AxesSubplot: title={'center': 'Ranking of MBTI types with sway back'}>"
      ]
     },
     "execution_count": 16,
     "metadata": {},
     "output_type": "execute_result"
    },
    {
     "data": {
      "image/png": "[encoded data removed]",
      "text/plain": [
       "<Figure size 1000x600 with 1 Axes>"
      ]
     },
     "metadata": {},
     "output_type": "display_data"
    }
   ],
   "source": [
    "plt.figure(figsize=(10,6))\n",
    "plt.title(\"Ranking of MBTI types with sway back\")\n",
    "df[df[\"POSTURE\"] == \"D\"].MBTI.value_counts().plot.bar()"
   ]
  },
  {
   "cell_type": "markdown",
   "id": "42161e71-e586-4732-9179-00344181e2d5",
   "metadata": {},
   "source": [
    "Here, most people with ISFP type have sway back. "
   ]
  },
  {
   "cell_type": "markdown",
   "id": "e2ff2b7b-969c-4b61-8340-e06cb2d659af",
   "metadata": {},
   "source": [
    "Now I would like to look at the correlation between the MBTI type and the posture. I will create a small table and then visualise the correlation between the features. "
   ]
  },
  {
   "cell_type": "code",
   "execution_count": 17,
   "id": "676cf11c-0cd8-4eb4-93ad-520c85eba921",
   "metadata": {},
   "outputs": [
    {
     "data": {
      "text/html": [
       "<div>\n",
       "<style scoped>\n",
       "    .dataframe tbody tr th:only-of-type {\n",
       "        vertical-align: middle;\n",
       "    }\n",
       "\n",
       "    .dataframe tbody tr th {\n",
       "        vertical-align: top;\n",
       "    }\n",
       "\n",
       "    .dataframe thead th {\n",
       "        text-align: right;\n",
       "    }\n",
       "</style>\n",
       "<table border=\"1\" class=\"dataframe\">\n",
       "  <thead>\n",
       "    <tr style=\"text-align: right;\">\n",
       "      <th>POSTURE</th>\n",
       "      <th>A</th>\n",
       "      <th>B</th>\n",
       "      <th>C</th>\n",
       "      <th>D</th>\n",
       "    </tr>\n",
       "    <tr>\n",
       "      <th>MBTI</th>\n",
       "      <th></th>\n",
       "      <th></th>\n",
       "      <th></th>\n",
       "      <th></th>\n",
       "    </tr>\n",
       "  </thead>\n",
       "  <tbody>\n",
       "    <tr>\n",
       "      <th>ENFJ</th>\n",
       "      <td>1</td>\n",
       "      <td>3</td>\n",
       "      <td>1</td>\n",
       "      <td>0</td>\n",
       "    </tr>\n",
       "    <tr>\n",
       "      <th>ENFP</th>\n",
       "      <td>8</td>\n",
       "      <td>2</td>\n",
       "      <td>0</td>\n",
       "      <td>0</td>\n",
       "    </tr>\n",
       "    <tr>\n",
       "      <th>ENTJ</th>\n",
       "      <td>0</td>\n",
       "      <td>2</td>\n",
       "      <td>1</td>\n",
       "      <td>2</td>\n",
       "    </tr>\n",
       "    <tr>\n",
       "      <th>ENTP</th>\n",
       "      <td>1</td>\n",
       "      <td>3</td>\n",
       "      <td>1</td>\n",
       "      <td>0</td>\n",
       "    </tr>\n",
       "    <tr>\n",
       "      <th>ESFJ</th>\n",
       "      <td>1</td>\n",
       "      <td>6</td>\n",
       "      <td>2</td>\n",
       "      <td>2</td>\n",
       "    </tr>\n",
       "    <tr>\n",
       "      <th>ESFP</th>\n",
       "      <td>5</td>\n",
       "      <td>5</td>\n",
       "      <td>2</td>\n",
       "      <td>0</td>\n",
       "    </tr>\n",
       "    <tr>\n",
       "      <th>ESTJ</th>\n",
       "      <td>2</td>\n",
       "      <td>3</td>\n",
       "      <td>0</td>\n",
       "      <td>2</td>\n",
       "    </tr>\n",
       "    <tr>\n",
       "      <th>ESTP</th>\n",
       "      <td>3</td>\n",
       "      <td>6</td>\n",
       "      <td>1</td>\n",
       "      <td>0</td>\n",
       "    </tr>\n",
       "    <tr>\n",
       "      <th>INFJ</th>\n",
       "      <td>0</td>\n",
       "      <td>1</td>\n",
       "      <td>1</td>\n",
       "      <td>2</td>\n",
       "    </tr>\n",
       "    <tr>\n",
       "      <th>INFP</th>\n",
       "      <td>0</td>\n",
       "      <td>0</td>\n",
       "      <td>2</td>\n",
       "      <td>3</td>\n",
       "    </tr>\n",
       "    <tr>\n",
       "      <th>INTJ</th>\n",
       "      <td>0</td>\n",
       "      <td>0</td>\n",
       "      <td>1</td>\n",
       "      <td>0</td>\n",
       "    </tr>\n",
       "    <tr>\n",
       "      <th>ISFJ</th>\n",
       "      <td>1</td>\n",
       "      <td>1</td>\n",
       "      <td>3</td>\n",
       "      <td>0</td>\n",
       "    </tr>\n",
       "    <tr>\n",
       "      <th>ISFP</th>\n",
       "      <td>0</td>\n",
       "      <td>0</td>\n",
       "      <td>2</td>\n",
       "      <td>5</td>\n",
       "    </tr>\n",
       "    <tr>\n",
       "      <th>ISTJ</th>\n",
       "      <td>0</td>\n",
       "      <td>2</td>\n",
       "      <td>1</td>\n",
       "      <td>3</td>\n",
       "    </tr>\n",
       "    <tr>\n",
       "      <th>ISTP</th>\n",
       "      <td>0</td>\n",
       "      <td>2</td>\n",
       "      <td>1</td>\n",
       "      <td>1</td>\n",
       "    </tr>\n",
       "  </tbody>\n",
       "</table>\n",
       "</div>"
      ],
      "text/plain": [
       "POSTURE  A  B  C  D\n",
       "MBTI               \n",
       "ENFJ     1  3  1  0\n",
       "ENFP     8  2  0  0\n",
       "ENTJ     0  2  1  2\n",
       "ENTP     1  3  1  0\n",
       "ESFJ     1  6  2  2\n",
       "ESFP     5  5  2  0\n",
       "ESTJ     2  3  0  2\n",
       "ESTP     3  6  1  0\n",
       "INFJ     0  1  1  2\n",
       "INFP     0  0  2  3\n",
       "INTJ     0  0  1  0\n",
       "ISFJ     1  1  3  0\n",
       "ISFP     0  0  2  5\n",
       "ISTJ     0  2  1  3\n",
       "ISTP     0  2  1  1"
      ]
     },
     "execution_count": 17,
     "metadata": {},
     "output_type": "execute_result"
    }
   ],
   "source": [
    "df2=df[['MBTI','POSTURE']].copy()\n",
    "df2['count'] = 1\n",
    "df2=df2.groupby(['MBTI','POSTURE'],as_index=False).sum()\n",
    "df2=df2.set_index(['MBTI','POSTURE']).unstack()['count']\n",
    "df2=df2.fillna(0).astype(int)\n",
    "df2"
   ]
  },
  {
   "cell_type": "code",
   "execution_count": 18,
   "id": "af017a72-0b6a-4026-b9c1-b38b2032d7aa",
   "metadata": {},
   "outputs": [
    {
     "data": {
      "text/plain": [
       "<AxesSubplot: xlabel='POSTURE', ylabel='MBTI'>"
      ]
     },
     "execution_count": 18,
     "metadata": {},
     "output_type": "execute_result"
    },
    {
     "data": {
      "image/png": "[encoded data removed]",
      "text/plain": [
       "<Figure size 1000x1000 with 2 Axes>"
      ]
     },
     "metadata": {},
     "output_type": "display_data"
    }
   ],
   "source": [
    "plt.figure(figsize=(10,10))\n",
    "sns.heatmap(df2,annot=True)"
   ]
  },
  {
   "cell_type": "markdown",
   "id": "aa6de681-50ee-4188-a9cc-2739885bd2c1",
   "metadata": {},
   "source": [
    "There is no particual correlation between the MBTI type and the posture. Only in some examples a correlation can be noticed, but it is not too strong. The ENFP personality type shows high correlation with good posture. This means that the MBTI type may not be the best variable to predict the posture. "
   ]
  },
  {
   "cell_type": "markdown",
   "id": "147323bd-da26-4f7a-bd69-2c692be3b722",
   "metadata": {},
   "source": [
    "### Data Preprocessing\n",
    "In this step I will perform essential operations on dataset in ordet to prepare it for a machine learning algorythms. "
   ]
  },
  {
   "cell_type": "code",
   "execution_count": 19,
   "id": "62987330-f136-45b0-88c4-f6cd372db82a",
   "metadata": {},
   "outputs": [],
   "source": [
    "# importing label encoder \n",
    "from sklearn.preprocessing import LabelEncoder\n",
    "\n",
    "# creating instance of label encoder \n",
    "le = LabelEncoder()\n",
    "\n",
    "# encoding categorical variables\n",
    "df['SEX']  = le.fit_transform(df['SEX'])\n",
    "df['MBTI'] = le.fit_transform(df['MBTI'])\n",
    "df['ACTIVITY LEVEL'] = le.fit_transform(df['ACTIVITY LEVEL'])\n",
    "df['POSTURE'] = le.fit_transform(df['POSTURE'])"
   ]
  },
  {
   "cell_type": "markdown",
   "id": "16a71674-63f2-498f-8966-e4a1a1b7090f",
   "metadata": {},
   "source": [
    "Since 'S No' column is has just index values, I will drop it. It is not needed in the sata set. "
   ]
  },
  {
   "cell_type": "code",
   "execution_count": 20,
   "id": "628c06d9-b775-4d78-a772-2600899e8d91",
   "metadata": {},
   "outputs": [],
   "source": [
    "df.drop('S No',axis=1,inplace=True)"
   ]
  },
  {
   "cell_type": "code",
   "execution_count": 21,
   "id": "83709584-9973-47da-93ac-051d9559b2f8",
   "metadata": {},
   "outputs": [
    {
     "data": {
      "text/html": [
       "<div>\n",
       "<style scoped>\n",
       "    .dataframe tbody tr th:only-of-type {\n",
       "        vertical-align: middle;\n",
       "    }\n",
       "\n",
       "    .dataframe tbody tr th {\n",
       "        vertical-align: top;\n",
       "    }\n",
       "\n",
       "    .dataframe thead th {\n",
       "        text-align: right;\n",
       "    }\n",
       "</style>\n",
       "<table border=\"1\" class=\"dataframe\">\n",
       "  <thead>\n",
       "    <tr style=\"text-align: right;\">\n",
       "      <th></th>\n",
       "      <th>AGE</th>\n",
       "      <th>HEIGHT</th>\n",
       "      <th>WEIGHT</th>\n",
       "      <th>SEX</th>\n",
       "      <th>ACTIVITY LEVEL</th>\n",
       "      <th>PAIN 1</th>\n",
       "      <th>PAIN 2</th>\n",
       "      <th>PAIN 3</th>\n",
       "      <th>PAIN 4</th>\n",
       "      <th>MBTI</th>\n",
       "      <th>E</th>\n",
       "      <th>I</th>\n",
       "      <th>S</th>\n",
       "      <th>N</th>\n",
       "      <th>T</th>\n",
       "      <th>F</th>\n",
       "      <th>J</th>\n",
       "      <th>P</th>\n",
       "      <th>POSTURE</th>\n",
       "    </tr>\n",
       "  </thead>\n",
       "  <tbody>\n",
       "    <tr>\n",
       "      <th>0</th>\n",
       "      <td>53</td>\n",
       "      <td>62</td>\n",
       "      <td>125</td>\n",
       "      <td>0</td>\n",
       "      <td>1</td>\n",
       "      <td>0.0</td>\n",
       "      <td>0.0</td>\n",
       "      <td>0.0</td>\n",
       "      <td>0.0</td>\n",
       "      <td>4</td>\n",
       "      <td>18</td>\n",
       "      <td>3</td>\n",
       "      <td>17</td>\n",
       "      <td>9</td>\n",
       "      <td>9</td>\n",
       "      <td>13</td>\n",
       "      <td>18</td>\n",
       "      <td>4</td>\n",
       "      <td>0</td>\n",
       "    </tr>\n",
       "    <tr>\n",
       "      <th>1</th>\n",
       "      <td>52</td>\n",
       "      <td>69</td>\n",
       "      <td>157</td>\n",
       "      <td>1</td>\n",
       "      <td>0</td>\n",
       "      <td>7.0</td>\n",
       "      <td>8.0</td>\n",
       "      <td>5.0</td>\n",
       "      <td>3.0</td>\n",
       "      <td>13</td>\n",
       "      <td>6</td>\n",
       "      <td>15</td>\n",
       "      <td>14</td>\n",
       "      <td>12</td>\n",
       "      <td>21</td>\n",
       "      <td>3</td>\n",
       "      <td>13</td>\n",
       "      <td>9</td>\n",
       "      <td>1</td>\n",
       "    </tr>\n",
       "    <tr>\n",
       "      <th>2</th>\n",
       "      <td>30</td>\n",
       "      <td>69</td>\n",
       "      <td>200</td>\n",
       "      <td>1</td>\n",
       "      <td>0</td>\n",
       "      <td>0.0</td>\n",
       "      <td>0.0</td>\n",
       "      <td>0.0</td>\n",
       "      <td>0.0</td>\n",
       "      <td>6</td>\n",
       "      <td>15</td>\n",
       "      <td>6</td>\n",
       "      <td>16</td>\n",
       "      <td>10</td>\n",
       "      <td>15</td>\n",
       "      <td>9</td>\n",
       "      <td>12</td>\n",
       "      <td>10</td>\n",
       "      <td>0</td>\n",
       "    </tr>\n",
       "    <tr>\n",
       "      <th>3</th>\n",
       "      <td>51</td>\n",
       "      <td>66</td>\n",
       "      <td>175</td>\n",
       "      <td>1</td>\n",
       "      <td>2</td>\n",
       "      <td>9.5</td>\n",
       "      <td>9.5</td>\n",
       "      <td>9.5</td>\n",
       "      <td>1.5</td>\n",
       "      <td>13</td>\n",
       "      <td>6</td>\n",
       "      <td>15</td>\n",
       "      <td>21</td>\n",
       "      <td>5</td>\n",
       "      <td>13</td>\n",
       "      <td>11</td>\n",
       "      <td>19</td>\n",
       "      <td>3</td>\n",
       "      <td>3</td>\n",
       "    </tr>\n",
       "    <tr>\n",
       "      <th>4</th>\n",
       "      <td>45</td>\n",
       "      <td>63</td>\n",
       "      <td>199</td>\n",
       "      <td>0</td>\n",
       "      <td>2</td>\n",
       "      <td>4.0</td>\n",
       "      <td>5.0</td>\n",
       "      <td>2.0</td>\n",
       "      <td>2.0</td>\n",
       "      <td>0</td>\n",
       "      <td>14</td>\n",
       "      <td>7</td>\n",
       "      <td>20</td>\n",
       "      <td>6</td>\n",
       "      <td>9</td>\n",
       "      <td>15</td>\n",
       "      <td>16</td>\n",
       "      <td>6</td>\n",
       "      <td>0</td>\n",
       "    </tr>\n",
       "    <tr>\n",
       "      <th>...</th>\n",
       "      <td>...</td>\n",
       "      <td>...</td>\n",
       "      <td>...</td>\n",
       "      <td>...</td>\n",
       "      <td>...</td>\n",
       "      <td>...</td>\n",
       "      <td>...</td>\n",
       "      <td>...</td>\n",
       "      <td>...</td>\n",
       "      <td>...</td>\n",
       "      <td>...</td>\n",
       "      <td>...</td>\n",
       "      <td>...</td>\n",
       "      <td>...</td>\n",
       "      <td>...</td>\n",
       "      <td>...</td>\n",
       "      <td>...</td>\n",
       "      <td>...</td>\n",
       "      <td>...</td>\n",
       "    </tr>\n",
       "    <tr>\n",
       "      <th>92</th>\n",
       "      <td>16</td>\n",
       "      <td>58</td>\n",
       "      <td>100</td>\n",
       "      <td>1</td>\n",
       "      <td>2</td>\n",
       "      <td>0.0</td>\n",
       "      <td>0.0</td>\n",
       "      <td>0.0</td>\n",
       "      <td>3.0</td>\n",
       "      <td>7</td>\n",
       "      <td>19</td>\n",
       "      <td>2</td>\n",
       "      <td>22</td>\n",
       "      <td>4</td>\n",
       "      <td>19</td>\n",
       "      <td>5</td>\n",
       "      <td>2</td>\n",
       "      <td>20</td>\n",
       "      <td>1</td>\n",
       "    </tr>\n",
       "    <tr>\n",
       "      <th>93</th>\n",
       "      <td>45</td>\n",
       "      <td>62</td>\n",
       "      <td>134</td>\n",
       "      <td>0</td>\n",
       "      <td>2</td>\n",
       "      <td>0.0</td>\n",
       "      <td>4.0</td>\n",
       "      <td>0.0</td>\n",
       "      <td>0.0</td>\n",
       "      <td>4</td>\n",
       "      <td>11</td>\n",
       "      <td>10</td>\n",
       "      <td>17</td>\n",
       "      <td>9</td>\n",
       "      <td>6</td>\n",
       "      <td>18</td>\n",
       "      <td>13</td>\n",
       "      <td>9</td>\n",
       "      <td>1</td>\n",
       "    </tr>\n",
       "    <tr>\n",
       "      <th>94</th>\n",
       "      <td>43</td>\n",
       "      <td>69</td>\n",
       "      <td>188</td>\n",
       "      <td>1</td>\n",
       "      <td>2</td>\n",
       "      <td>2.0</td>\n",
       "      <td>0.0</td>\n",
       "      <td>0.0</td>\n",
       "      <td>0.0</td>\n",
       "      <td>1</td>\n",
       "      <td>12</td>\n",
       "      <td>9</td>\n",
       "      <td>9</td>\n",
       "      <td>17</td>\n",
       "      <td>6</td>\n",
       "      <td>18</td>\n",
       "      <td>2</td>\n",
       "      <td>20</td>\n",
       "      <td>0</td>\n",
       "    </tr>\n",
       "    <tr>\n",
       "      <th>95</th>\n",
       "      <td>28</td>\n",
       "      <td>67</td>\n",
       "      <td>180</td>\n",
       "      <td>0</td>\n",
       "      <td>1</td>\n",
       "      <td>0.0</td>\n",
       "      <td>0.0</td>\n",
       "      <td>0.0</td>\n",
       "      <td>0.0</td>\n",
       "      <td>4</td>\n",
       "      <td>11</td>\n",
       "      <td>10</td>\n",
       "      <td>22</td>\n",
       "      <td>14</td>\n",
       "      <td>8</td>\n",
       "      <td>16</td>\n",
       "      <td>14</td>\n",
       "      <td>8</td>\n",
       "      <td>1</td>\n",
       "    </tr>\n",
       "    <tr>\n",
       "      <th>96</th>\n",
       "      <td>43</td>\n",
       "      <td>69</td>\n",
       "      <td>188</td>\n",
       "      <td>1</td>\n",
       "      <td>2</td>\n",
       "      <td>4.0</td>\n",
       "      <td>0.0</td>\n",
       "      <td>0.0</td>\n",
       "      <td>0.0</td>\n",
       "      <td>1</td>\n",
       "      <td>12</td>\n",
       "      <td>9</td>\n",
       "      <td>9</td>\n",
       "      <td>17</td>\n",
       "      <td>6</td>\n",
       "      <td>18</td>\n",
       "      <td>2</td>\n",
       "      <td>20</td>\n",
       "      <td>0</td>\n",
       "    </tr>\n",
       "  </tbody>\n",
       "</table>\n",
       "<p>97 rows × 19 columns</p>\n",
       "</div>"
      ],
      "text/plain": [
       "    AGE  HEIGHT  WEIGHT  SEX  ACTIVITY LEVEL  PAIN 1  PAIN 2  PAIN 3  PAIN 4  \\\n",
       "0    53      62     125    0               1     0.0     0.0     0.0     0.0   \n",
       "1    52      69     157    1               0     7.0     8.0     5.0     3.0   \n",
       "2    30      69     200    1               0     0.0     0.0     0.0     0.0   \n",
       "3    51      66     175    1               2     9.5     9.5     9.5     1.5   \n",
       "4    45      63     199    0               2     4.0     5.0     2.0     2.0   \n",
       "..  ...     ...     ...  ...             ...     ...     ...     ...     ...   \n",
       "92   16      58     100    1               2     0.0     0.0     0.0     3.0   \n",
       "93   45      62     134    0               2     0.0     4.0     0.0     0.0   \n",
       "94   43      69     188    1               2     2.0     0.0     0.0     0.0   \n",
       "95   28      67     180    0               1     0.0     0.0     0.0     0.0   \n",
       "96   43      69     188    1               2     4.0     0.0     0.0     0.0   \n",
       "\n",
       "    MBTI   E   I   S   N   T   F   J   P  POSTURE  \n",
       "0      4  18   3  17   9   9  13  18   4        0  \n",
       "1     13   6  15  14  12  21   3  13   9        1  \n",
       "2      6  15   6  16  10  15   9  12  10        0  \n",
       "3     13   6  15  21   5  13  11  19   3        3  \n",
       "4      0  14   7  20   6   9  15  16   6        0  \n",
       "..   ...  ..  ..  ..  ..  ..  ..  ..  ..      ...  \n",
       "92     7  19   2  22   4  19   5   2  20        1  \n",
       "93     4  11  10  17   9   6  18  13   9        1  \n",
       "94     1  12   9   9  17   6  18   2  20        0  \n",
       "95     4  11  10  22  14   8  16  14   8        1  \n",
       "96     1  12   9   9  17   6  18   2  20        0  \n",
       "\n",
       "[97 rows x 19 columns]"
      ]
     },
     "execution_count": 21,
     "metadata": {},
     "output_type": "execute_result"
    }
   ],
   "source": [
    "df"
   ]
  },
  {
   "cell_type": "code",
   "execution_count": 22,
   "id": "b6155899-ce88-4de2-86c0-c19fe0507f67",
   "metadata": {},
   "outputs": [
    {
     "data": {
      "text/plain": [
       "AGE                 int64\n",
       "HEIGHT              int64\n",
       "WEIGHT              int64\n",
       "SEX                 int64\n",
       "ACTIVITY LEVEL      int64\n",
       "PAIN 1            float64\n",
       "PAIN 2            float64\n",
       "PAIN 3            float64\n",
       "PAIN 4            float64\n",
       "MBTI                int64\n",
       "E                   int64\n",
       "I                   int64\n",
       "S                   int64\n",
       "N                   int64\n",
       "T                   int64\n",
       "F                   int64\n",
       "J                   int64\n",
       "P                   int64\n",
       "POSTURE             int64\n",
       "dtype: object"
      ]
     },
     "execution_count": 22,
     "metadata": {},
     "output_type": "execute_result"
    }
   ],
   "source": [
    "df.dtypes"
   ]
  },
  {
   "cell_type": "markdown",
   "id": "7fc68799-f832-4da8-861c-ff1e6ee64bd5",
   "metadata": {},
   "source": [
    "### Machine Learning: Decision Tree and Random Forest"
   ]
  },
  {
   "cell_type": "code",
   "execution_count": 23,
   "id": "a2371edb-ca4a-401b-a6e6-b8560f4a9b77",
   "metadata": {},
   "outputs": [],
   "source": [
    "# importing train_test_split and Decision Tree Classifier\n",
    "from sklearn.model_selection import train_test_split\n",
    "from sklearn.tree import DecisionTreeClassifier \n",
    "\n",
    "# assigning the features and the target variable \n",
    "X_dt = df.drop('POSTURE',axis=1)\n",
    "y_dt = df['POSTURE']\n",
    "\n",
    "# splitting the dataset\n",
    "X_train, X_test, y_train, y_test = train_test_split(X_dt, y_dt, test_size=0.2, random_state=42)"
   ]
  },
  {
   "cell_type": "code",
   "execution_count": 24,
   "id": "b6c1a3aa-cd4a-494b-af8f-2a7c240fe9e8",
   "metadata": {},
   "outputs": [
    {
     "data": {
      "text/html": [
       "<style>#sk-container-id-1 {color: black;background-color: white;}#sk-container-id-1 pre{padding: 0;}#sk-container-id-1 div.sk-toggleable {background-color: white;}#sk-container-id-1 label.sk-toggleable__label {cursor: pointer;display: block;width: 100%;margin-bottom: 0;padding: 0.3em;box-sizing: border-box;text-align: center;}#sk-container-id-1 label.sk-toggleable__label-arrow:before {content: \"▸\";float: left;margin-right: 0.25em;color: #696969;}#sk-container-id-1 label.sk-toggleable__label-arrow:hover:before {color: black;}#sk-container-id-1 div.sk-estimator:hover label.sk-toggleable__label-arrow:before {color: black;}#sk-container-id-1 div.sk-toggleable__content {max-height: 0;max-width: 0;overflow: hidden;text-align: left;background-color: #f0f8ff;}#sk-container-id-1 div.sk-toggleable__content pre {margin: 0.2em;color: black;border-radius: 0.25em;background-color: #f0f8ff;}#sk-container-id-1 input.sk-toggleable__control:checked~div.sk-toggleable__content {max-height: 200px;max-width: 100%;overflow: auto;}#sk-container-id-1 input.sk-toggleable__control:checked~label.sk-toggleable__label-arrow:before {content: \"▾\";}#sk-container-id-1 div.sk-estimator input.sk-toggleable__control:checked~label.sk-toggleable__label {background-color: #d4ebff;}#sk-container-id-1 div.sk-label input.sk-toggleable__control:checked~label.sk-toggleable__label {background-color: #d4ebff;}#sk-container-id-1 input.sk-hidden--visually {border: 0;clip: rect(1px 1px 1px 1px);clip: rect(1px, 1px, 1px, 1px);height: 1px;margin: -1px;overflow: hidden;padding: 0;position: absolute;width: 1px;}#sk-container-id-1 div.sk-estimator {font-family: monospace;background-color: #f0f8ff;border: 1px dotted black;border-radius: 0.25em;box-sizing: border-box;margin-bottom: 0.5em;}#sk-container-id-1 div.sk-estimator:hover {background-color: #d4ebff;}#sk-container-id-1 div.sk-parallel-item::after {content: \"\";width: 100%;border-bottom: 1px solid gray;flex-grow: 1;}#sk-container-id-1 div.sk-label:hover label.sk-toggleable__label {background-color: #d4ebff;}#sk-container-id-1 div.sk-serial::before {content: \"\";position: absolute;border-left: 1px solid gray;box-sizing: border-box;top: 0;bottom: 0;left: 50%;z-index: 0;}#sk-container-id-1 div.sk-serial {display: flex;flex-direction: column;align-items: center;background-color: white;padding-right: 0.2em;padding-left: 0.2em;position: relative;}#sk-container-id-1 div.sk-item {position: relative;z-index: 1;}#sk-container-id-1 div.sk-parallel {display: flex;align-items: stretch;justify-content: center;background-color: white;position: relative;}#sk-container-id-1 div.sk-item::before, #sk-container-id-1 div.sk-parallel-item::before {content: \"\";position: absolute;border-left: 1px solid gray;box-sizing: border-box;top: 0;bottom: 0;left: 50%;z-index: -1;}#sk-container-id-1 div.sk-parallel-item {display: flex;flex-direction: column;z-index: 1;position: relative;background-color: white;}#sk-container-id-1 div.sk-parallel-item:first-child::after {align-self: flex-end;width: 50%;}#sk-container-id-1 div.sk-parallel-item:last-child::after {align-self: flex-start;width: 50%;}#sk-container-id-1 div.sk-parallel-item:only-child::after {width: 0;}#sk-container-id-1 div.sk-dashed-wrapped {border: 1px dashed gray;margin: 0 0.4em 0.5em 0.4em;box-sizing: border-box;padding-bottom: 0.4em;background-color: white;}#sk-container-id-1 div.sk-label label {font-family: monospace;font-weight: bold;display: inline-block;line-height: 1.2em;}#sk-container-id-1 div.sk-label-container {text-align: center;}#sk-container-id-1 div.sk-container {/* jupyter's `normalize.less` sets `[hidden] { display: none; }` but bootstrap.min.css set `[hidden] { display: none !important; }` so we also need the `!important` here to be able to override the default hidden behavior on the sphinx rendered scikit-learn.org. See: https://github.com/scikit-learn/scikit-learn/issues/21755 */display: inline-block !important;position: relative;}#sk-container-id-1 div.sk-text-repr-fallback {display: none;}</style><div id=\"sk-container-id-1\" class=\"sk-top-container\"><div class=\"sk-text-repr-fallback\"><pre>DecisionTreeClassifier(criterion=&#x27;entropy&#x27;, max_depth=3)</pre><b>In a Jupyter environment, please rerun this cell to show the HTML representation or trust the notebook. <br />On GitHub, the HTML representation is unable to render, please try loading this page with nbviewer.org.</b></div><div class=\"sk-container\" hidden><div class=\"sk-item\"><div class=\"sk-estimator sk-toggleable\"><input class=\"sk-toggleable__control sk-hidden--visually\" id=\"sk-estimator-id-1\" type=\"checkbox\" checked><label for=\"sk-estimator-id-1\" class=\"sk-toggleable__label sk-toggleable__label-arrow\">DecisionTreeClassifier</label><div class=\"sk-toggleable__content\"><pre>DecisionTreeClassifier(criterion=&#x27;entropy&#x27;, max_depth=3)</pre></div></div></div></div></div>"
      ],
      "text/plain": [
       "DecisionTreeClassifier(criterion='entropy', max_depth=3)"
      ]
     },
     "execution_count": 24,
     "metadata": {},
     "output_type": "execute_result"
    }
   ],
   "source": [
    "# creating the model\n",
    "dtree = DecisionTreeClassifier(criterion='entropy', max_depth=3)\n",
    "\n",
    "# fitting the model\n",
    "dtree.fit(X_train,y_train)"
   ]
  },
  {
   "cell_type": "code",
   "execution_count": 25,
   "id": "83881bda-8742-4825-9e40-bece5a892b06",
   "metadata": {},
   "outputs": [],
   "source": [
    "# making predictions\n",
    "predictions = dtree.predict(X_test)"
   ]
  },
  {
   "cell_type": "code",
   "execution_count": 26,
   "id": "fc3c5440-57e7-4e5a-870a-ce3d195b17e2",
   "metadata": {},
   "outputs": [
    {
     "name": "stdout",
     "output_type": "stream",
     "text": [
      "[[4 1 1 1]\n",
      " [2 4 1 0]\n",
      " [0 1 1 2]\n",
      " [0 1 1 0]]\n",
      "              precision    recall  f1-score   support\n",
      "\n",
      "           0       0.67      0.57      0.62         7\n",
      "           1       0.57      0.57      0.57         7\n",
      "           2       0.25      0.25      0.25         4\n",
      "           3       0.00      0.00      0.00         2\n",
      "\n",
      "    accuracy                           0.45        20\n",
      "   macro avg       0.37      0.35      0.36        20\n",
      "weighted avg       0.48      0.45      0.47        20\n",
      "\n"
     ]
    }
   ],
   "source": [
    "# getting the performance of the model\n",
    "from sklearn.metrics import classification_report,confusion_matrix\n",
    "\n",
    "print(confusion_matrix(y_test,predictions))\n",
    "print(classification_report(y_test,predictions))"
   ]
  },
  {
   "cell_type": "markdown",
   "id": "7e18087f-6d23-46c6-9c04-5cf0260a9a00",
   "metadata": {},
   "source": [
    "The performance outcome may not have met our expectations as the accuracy is at 45% and the f1-score has only reached 0.62 in one instance."
   ]
  },
  {
   "cell_type": "code",
   "execution_count": 27,
   "id": "fe67c3db-9eb6-4e34-9a1a-0289679115f5",
   "metadata": {},
   "outputs": [],
   "source": [
    "# random forest"
   ]
  },
  {
   "cell_type": "code",
   "execution_count": 28,
   "id": "a95e5f6b-9463-4282-a680-aa2ad1b70a8a",
   "metadata": {},
   "outputs": [],
   "source": [
    "# importing random forest classifier \n",
    "from sklearn.ensemble import RandomForestClassifier\n",
    "\n",
    "# creating the model\n",
    "rfc = RandomForestClassifier(n_estimators=300)"
   ]
  },
  {
   "cell_type": "code",
   "execution_count": 29,
   "id": "5bbe0d2e-9286-4b3a-8569-dc6b7980f4ee",
   "metadata": {},
   "outputs": [
    {
     "name": "stdout",
     "output_type": "stream",
     "text": [
      "[[2 4 1 0]\n",
      " [1 6 0 0]\n",
      " [0 2 1 1]\n",
      " [0 2 0 0]]\n",
      "              precision    recall  f1-score   support\n",
      "\n",
      "           0       0.67      0.29      0.40         7\n",
      "           1       0.43      0.86      0.57         7\n",
      "           2       0.50      0.25      0.33         4\n",
      "           3       0.00      0.00      0.00         2\n",
      "\n",
      "    accuracy                           0.45        20\n",
      "   macro avg       0.40      0.35      0.33        20\n",
      "weighted avg       0.48      0.45      0.41        20\n",
      "\n"
     ]
    }
   ],
   "source": [
    "# fitting the model\n",
    "rfc.fit(X_train,y_train)\n",
    "\n",
    "# making predictions\n",
    "rfc_pred = rfc.predict(X_test)\n",
    "\n",
    "# getting the performance\n",
    "print(confusion_matrix(y_test,rfc_pred))\n",
    "print(classification_report(y_test,rfc_pred))"
   ]
  },
  {
   "cell_type": "markdown",
   "id": "f4896d5b-dbe1-4803-ae96-f19df80e79f9",
   "metadata": {},
   "source": [
    "From the metrics above it can be infered that the model performed slightly better, but still the outcome is not desirable. "
   ]
  },
  {
   "cell_type": "markdown",
   "id": "a693b6aa-d0d0-4aa1-b303-ae3523cfc099",
   "metadata": {
    "tags": []
   },
   "source": [
    "### Machine Learning: Support Vector Classifier"
   ]
  },
  {
   "cell_type": "code",
   "execution_count": 30,
   "id": "49668d63-0a34-46f6-a4d2-1e38e7c0f01f",
   "metadata": {},
   "outputs": [],
   "source": [
    "X_svc = df.drop('POSTURE',axis=1)\n",
    "y_svc = df['POSTURE']\n",
    "\n",
    "X_train, X_test, y_train, y_test = train_test_split(X_svc, y_svc, test_size=0.2, random_state=42)"
   ]
  },
  {
   "cell_type": "code",
   "execution_count": 31,
   "id": "1822279f-1527-4bbb-9fbc-1e6706cac5ef",
   "metadata": {},
   "outputs": [
    {
     "name": "stdout",
     "output_type": "stream",
     "text": [
      "[[0 7 0 0]\n",
      " [0 7 0 0]\n",
      " [0 4 0 0]\n",
      " [0 2 0 0]]\n",
      "              precision    recall  f1-score   support\n",
      "\n",
      "           0       0.00      0.00      0.00         7\n",
      "           1       0.35      1.00      0.52         7\n",
      "           2       0.00      0.00      0.00         4\n",
      "           3       0.00      0.00      0.00         2\n",
      "\n",
      "    accuracy                           0.35        20\n",
      "   macro avg       0.09      0.25      0.13        20\n",
      "weighted avg       0.12      0.35      0.18        20\n",
      "\n"
     ]
    },
    {
     "name": "stderr",
     "output_type": "stream",
     "text": [
      "/Users/przemyslawgolonka/opt/miniconda3/envs/tensorflow/lib/python3.9/site-packages/sklearn/metrics/_classification.py:1334: UndefinedMetricWarning: Precision and F-score are ill-defined and being set to 0.0 in labels with no predicted samples. Use `zero_division` parameter to control this behavior.\n",
      "  _warn_prf(average, modifier, msg_start, len(result))\n",
      "/Users/przemyslawgolonka/opt/miniconda3/envs/tensorflow/lib/python3.9/site-packages/sklearn/metrics/_classification.py:1334: UndefinedMetricWarning: Precision and F-score are ill-defined and being set to 0.0 in labels with no predicted samples. Use `zero_division` parameter to control this behavior.\n",
      "  _warn_prf(average, modifier, msg_start, len(result))\n",
      "/Users/przemyslawgolonka/opt/miniconda3/envs/tensorflow/lib/python3.9/site-packages/sklearn/metrics/_classification.py:1334: UndefinedMetricWarning: Precision and F-score are ill-defined and being set to 0.0 in labels with no predicted samples. Use `zero_division` parameter to control this behavior.\n",
      "  _warn_prf(average, modifier, msg_start, len(result))\n"
     ]
    }
   ],
   "source": [
    "# importing SVC\n",
    "from sklearn.svm import SVC\n",
    "\n",
    "# creating a model\n",
    "model = SVC()\n",
    "\n",
    "# fitting the model\n",
    "model.fit(X_train,y_train)\n",
    "\n",
    "# making predictions\n",
    "predictions = model.predict(X_test)\n",
    "\n",
    "# getting the matrics\n",
    "print(confusion_matrix(y_test,predictions))\n",
    "print(classification_report(y_test,predictions))"
   ]
  },
  {
   "cell_type": "markdown",
   "id": "be9d2ba4-42af-4bf5-a52d-c96cf1469046",
   "metadata": {},
   "source": [
    "In this case, the SVC performed worse than the two prevoius algoritms. "
   ]
  },
  {
   "cell_type": "markdown",
   "id": "c84de9fd-8833-420c-81e5-e1799a1bacd2",
   "metadata": {},
   "source": [
    "### Machine Learning: K-Nearest Neighbour"
   ]
  },
  {
   "cell_type": "code",
   "execution_count": 32,
   "id": "0d802599-f645-4547-8c56-a6c149274b75",
   "metadata": {},
   "outputs": [
    {
     "data": {
      "text/html": [
       "<style>#sk-container-id-2 {color: black;background-color: white;}#sk-container-id-2 pre{padding: 0;}#sk-container-id-2 div.sk-toggleable {background-color: white;}#sk-container-id-2 label.sk-toggleable__label {cursor: pointer;display: block;width: 100%;margin-bottom: 0;padding: 0.3em;box-sizing: border-box;text-align: center;}#sk-container-id-2 label.sk-toggleable__label-arrow:before {content: \"▸\";float: left;margin-right: 0.25em;color: #696969;}#sk-container-id-2 label.sk-toggleable__label-arrow:hover:before {color: black;}#sk-container-id-2 div.sk-estimator:hover label.sk-toggleable__label-arrow:before {color: black;}#sk-container-id-2 div.sk-toggleable__content {max-height: 0;max-width: 0;overflow: hidden;text-align: left;background-color: #f0f8ff;}#sk-container-id-2 div.sk-toggleable__content pre {margin: 0.2em;color: black;border-radius: 0.25em;background-color: #f0f8ff;}#sk-container-id-2 input.sk-toggleable__control:checked~div.sk-toggleable__content {max-height: 200px;max-width: 100%;overflow: auto;}#sk-container-id-2 input.sk-toggleable__control:checked~label.sk-toggleable__label-arrow:before {content: \"▾\";}#sk-container-id-2 div.sk-estimator input.sk-toggleable__control:checked~label.sk-toggleable__label {background-color: #d4ebff;}#sk-container-id-2 div.sk-label input.sk-toggleable__control:checked~label.sk-toggleable__label {background-color: #d4ebff;}#sk-container-id-2 input.sk-hidden--visually {border: 0;clip: rect(1px 1px 1px 1px);clip: rect(1px, 1px, 1px, 1px);height: 1px;margin: -1px;overflow: hidden;padding: 0;position: absolute;width: 1px;}#sk-container-id-2 div.sk-estimator {font-family: monospace;background-color: #f0f8ff;border: 1px dotted black;border-radius: 0.25em;box-sizing: border-box;margin-bottom: 0.5em;}#sk-container-id-2 div.sk-estimator:hover {background-color: #d4ebff;}#sk-container-id-2 div.sk-parallel-item::after {content: \"\";width: 100%;border-bottom: 1px solid gray;flex-grow: 1;}#sk-container-id-2 div.sk-label:hover label.sk-toggleable__label {background-color: #d4ebff;}#sk-container-id-2 div.sk-serial::before {content: \"\";position: absolute;border-left: 1px solid gray;box-sizing: border-box;top: 0;bottom: 0;left: 50%;z-index: 0;}#sk-container-id-2 div.sk-serial {display: flex;flex-direction: column;align-items: center;background-color: white;padding-right: 0.2em;padding-left: 0.2em;position: relative;}#sk-container-id-2 div.sk-item {position: relative;z-index: 1;}#sk-container-id-2 div.sk-parallel {display: flex;align-items: stretch;justify-content: center;background-color: white;position: relative;}#sk-container-id-2 div.sk-item::before, #sk-container-id-2 div.sk-parallel-item::before {content: \"\";position: absolute;border-left: 1px solid gray;box-sizing: border-box;top: 0;bottom: 0;left: 50%;z-index: -1;}#sk-container-id-2 div.sk-parallel-item {display: flex;flex-direction: column;z-index: 1;position: relative;background-color: white;}#sk-container-id-2 div.sk-parallel-item:first-child::after {align-self: flex-end;width: 50%;}#sk-container-id-2 div.sk-parallel-item:last-child::after {align-self: flex-start;width: 50%;}#sk-container-id-2 div.sk-parallel-item:only-child::after {width: 0;}#sk-container-id-2 div.sk-dashed-wrapped {border: 1px dashed gray;margin: 0 0.4em 0.5em 0.4em;box-sizing: border-box;padding-bottom: 0.4em;background-color: white;}#sk-container-id-2 div.sk-label label {font-family: monospace;font-weight: bold;display: inline-block;line-height: 1.2em;}#sk-container-id-2 div.sk-label-container {text-align: center;}#sk-container-id-2 div.sk-container {/* jupyter's `normalize.less` sets `[hidden] { display: none; }` but bootstrap.min.css set `[hidden] { display: none !important; }` so we also need the `!important` here to be able to override the default hidden behavior on the sphinx rendered scikit-learn.org. See: https://github.com/scikit-learn/scikit-learn/issues/21755 */display: inline-block !important;position: relative;}#sk-container-id-2 div.sk-text-repr-fallback {display: none;}</style><div id=\"sk-container-id-2\" class=\"sk-top-container\"><div class=\"sk-text-repr-fallback\"><pre>StandardScaler()</pre><b>In a Jupyter environment, please rerun this cell to show the HTML representation or trust the notebook. <br />On GitHub, the HTML representation is unable to render, please try loading this page with nbviewer.org.</b></div><div class=\"sk-container\" hidden><div class=\"sk-item\"><div class=\"sk-estimator sk-toggleable\"><input class=\"sk-toggleable__control sk-hidden--visually\" id=\"sk-estimator-id-2\" type=\"checkbox\" checked><label for=\"sk-estimator-id-2\" class=\"sk-toggleable__label sk-toggleable__label-arrow\">StandardScaler</label><div class=\"sk-toggleable__content\"><pre>StandardScaler()</pre></div></div></div></div></div>"
      ],
      "text/plain": [
       "StandardScaler()"
      ]
     },
     "execution_count": 32,
     "metadata": {},
     "output_type": "execute_result"
    }
   ],
   "source": [
    "# importing standard scaler to scale the data\n",
    "from sklearn.preprocessing import StandardScaler\n",
    "\n",
    "# creating instance of the scaler\n",
    "scaler = StandardScaler()\n",
    "\n",
    "# fitting the scaler \n",
    "scaler.fit(df.drop('POSTURE',axis=1))"
   ]
  },
  {
   "cell_type": "code",
   "execution_count": 33,
   "id": "2a61b5bc-7079-4f3f-bc8c-bb5757b235a0",
   "metadata": {},
   "outputs": [],
   "source": [
    "# scaling the features\n",
    "scaled_features = scaler.transform(df.drop('POSTURE',axis=1))"
   ]
  },
  {
   "cell_type": "code",
   "execution_count": 34,
   "id": "98ad3e2d-ff8b-42e3-9111-7a91d199e512",
   "metadata": {},
   "outputs": [
    {
     "data": {
      "text/html": [
       "<div>\n",
       "<style scoped>\n",
       "    .dataframe tbody tr th:only-of-type {\n",
       "        vertical-align: middle;\n",
       "    }\n",
       "\n",
       "    .dataframe tbody tr th {\n",
       "        vertical-align: top;\n",
       "    }\n",
       "\n",
       "    .dataframe thead th {\n",
       "        text-align: right;\n",
       "    }\n",
       "</style>\n",
       "<table border=\"1\" class=\"dataframe\">\n",
       "  <thead>\n",
       "    <tr style=\"text-align: right;\">\n",
       "      <th></th>\n",
       "      <th>AGE</th>\n",
       "      <th>HEIGHT</th>\n",
       "      <th>WEIGHT</th>\n",
       "      <th>SEX</th>\n",
       "      <th>ACTIVITY LEVEL</th>\n",
       "      <th>PAIN 1</th>\n",
       "      <th>PAIN 2</th>\n",
       "      <th>PAIN 3</th>\n",
       "      <th>PAIN 4</th>\n",
       "      <th>MBTI</th>\n",
       "      <th>E</th>\n",
       "      <th>I</th>\n",
       "      <th>S</th>\n",
       "      <th>N</th>\n",
       "      <th>T</th>\n",
       "      <th>F</th>\n",
       "      <th>J</th>\n",
       "      <th>P</th>\n",
       "    </tr>\n",
       "  </thead>\n",
       "  <tbody>\n",
       "    <tr>\n",
       "      <th>0</th>\n",
       "      <td>0.547913</td>\n",
       "      <td>-1.003699</td>\n",
       "      <td>-0.956237</td>\n",
       "      <td>-0.989743</td>\n",
       "      <td>-0.239470</td>\n",
       "      <td>-0.835831</td>\n",
       "      <td>-1.180447</td>\n",
       "      <td>-0.754816</td>\n",
       "      <td>-0.817641</td>\n",
       "      <td>-0.563189</td>\n",
       "      <td>0.933351</td>\n",
       "      <td>-0.933122</td>\n",
       "      <td>0.388019</td>\n",
       "      <td>-0.433588</td>\n",
       "      <td>-0.283704</td>\n",
       "      <td>-0.084118</td>\n",
       "      <td>1.347962</td>\n",
       "      <td>-1.351831</td>\n",
       "    </tr>\n",
       "    <tr>\n",
       "      <th>1</th>\n",
       "      <td>0.487994</td>\n",
       "      <td>0.878929</td>\n",
       "      <td>-0.067566</td>\n",
       "      <td>1.010363</td>\n",
       "      <td>-2.351162</td>\n",
       "      <td>1.899250</td>\n",
       "      <td>1.339572</td>\n",
       "      <td>1.187283</td>\n",
       "      <td>0.151538</td>\n",
       "      <td>1.641582</td>\n",
       "      <td>-1.176203</td>\n",
       "      <td>1.184138</td>\n",
       "      <td>-0.235813</td>\n",
       "      <td>0.203655</td>\n",
       "      <td>1.978158</td>\n",
       "      <td>-1.981663</td>\n",
       "      <td>0.470430</td>\n",
       "      <td>-0.471780</td>\n",
       "    </tr>\n",
       "    <tr>\n",
       "      <th>2</th>\n",
       "      <td>-0.830208</td>\n",
       "      <td>0.878929</td>\n",
       "      <td>1.126584</td>\n",
       "      <td>1.010363</td>\n",
       "      <td>-2.351162</td>\n",
       "      <td>-0.835831</td>\n",
       "      <td>-1.180447</td>\n",
       "      <td>-0.754816</td>\n",
       "      <td>-0.817641</td>\n",
       "      <td>-0.073240</td>\n",
       "      <td>0.405962</td>\n",
       "      <td>-0.403807</td>\n",
       "      <td>0.180075</td>\n",
       "      <td>-0.221173</td>\n",
       "      <td>0.847227</td>\n",
       "      <td>-0.843136</td>\n",
       "      <td>0.294923</td>\n",
       "      <td>-0.295770</td>\n",
       "    </tr>\n",
       "    <tr>\n",
       "      <th>3</th>\n",
       "      <td>0.428076</td>\n",
       "      <td>0.072089</td>\n",
       "      <td>0.432311</td>\n",
       "      <td>1.010363</td>\n",
       "      <td>1.872221</td>\n",
       "      <td>2.876064</td>\n",
       "      <td>1.812075</td>\n",
       "      <td>2.935172</td>\n",
       "      <td>-0.333051</td>\n",
       "      <td>1.641582</td>\n",
       "      <td>-1.176203</td>\n",
       "      <td>1.184138</td>\n",
       "      <td>1.219795</td>\n",
       "      <td>-1.283244</td>\n",
       "      <td>0.470250</td>\n",
       "      <td>-0.463627</td>\n",
       "      <td>1.523469</td>\n",
       "      <td>-1.527841</td>\n",
       "    </tr>\n",
       "    <tr>\n",
       "      <th>4</th>\n",
       "      <td>0.068566</td>\n",
       "      <td>-0.734752</td>\n",
       "      <td>1.098814</td>\n",
       "      <td>-0.989743</td>\n",
       "      <td>1.872221</td>\n",
       "      <td>0.727072</td>\n",
       "      <td>0.394565</td>\n",
       "      <td>0.022024</td>\n",
       "      <td>-0.171521</td>\n",
       "      <td>-1.543087</td>\n",
       "      <td>0.230166</td>\n",
       "      <td>-0.227369</td>\n",
       "      <td>1.011851</td>\n",
       "      <td>-1.070830</td>\n",
       "      <td>-0.283704</td>\n",
       "      <td>0.295391</td>\n",
       "      <td>0.996949</td>\n",
       "      <td>-0.999811</td>\n",
       "    </tr>\n",
       "    <tr>\n",
       "      <th>...</th>\n",
       "      <td>...</td>\n",
       "      <td>...</td>\n",
       "      <td>...</td>\n",
       "      <td>...</td>\n",
       "      <td>...</td>\n",
       "      <td>...</td>\n",
       "      <td>...</td>\n",
       "      <td>...</td>\n",
       "      <td>...</td>\n",
       "      <td>...</td>\n",
       "      <td>...</td>\n",
       "      <td>...</td>\n",
       "      <td>...</td>\n",
       "      <td>...</td>\n",
       "      <td>...</td>\n",
       "      <td>...</td>\n",
       "      <td>...</td>\n",
       "      <td>...</td>\n",
       "    </tr>\n",
       "    <tr>\n",
       "      <th>92</th>\n",
       "      <td>-1.669064</td>\n",
       "      <td>-2.079486</td>\n",
       "      <td>-1.650511</td>\n",
       "      <td>1.010363</td>\n",
       "      <td>1.872221</td>\n",
       "      <td>-0.835831</td>\n",
       "      <td>-1.180447</td>\n",
       "      <td>-0.754816</td>\n",
       "      <td>0.151538</td>\n",
       "      <td>0.171735</td>\n",
       "      <td>1.109147</td>\n",
       "      <td>-1.109561</td>\n",
       "      <td>1.427739</td>\n",
       "      <td>-1.495658</td>\n",
       "      <td>1.601181</td>\n",
       "      <td>-1.602154</td>\n",
       "      <td>-1.460141</td>\n",
       "      <td>1.464332</td>\n",
       "    </tr>\n",
       "    <tr>\n",
       "      <th>93</th>\n",
       "      <td>0.068566</td>\n",
       "      <td>-1.003699</td>\n",
       "      <td>-0.706298</td>\n",
       "      <td>-0.989743</td>\n",
       "      <td>1.872221</td>\n",
       "      <td>-0.835831</td>\n",
       "      <td>0.079562</td>\n",
       "      <td>-0.754816</td>\n",
       "      <td>-0.817641</td>\n",
       "      <td>-0.563189</td>\n",
       "      <td>-0.297222</td>\n",
       "      <td>0.301946</td>\n",
       "      <td>0.388019</td>\n",
       "      <td>-0.433588</td>\n",
       "      <td>-0.849170</td>\n",
       "      <td>0.864654</td>\n",
       "      <td>0.470430</td>\n",
       "      <td>-0.471780</td>\n",
       "    </tr>\n",
       "    <tr>\n",
       "      <th>94</th>\n",
       "      <td>-0.051270</td>\n",
       "      <td>0.878929</td>\n",
       "      <td>0.793333</td>\n",
       "      <td>1.010363</td>\n",
       "      <td>1.872221</td>\n",
       "      <td>-0.054379</td>\n",
       "      <td>-1.180447</td>\n",
       "      <td>-0.754816</td>\n",
       "      <td>-0.817641</td>\n",
       "      <td>-1.298112</td>\n",
       "      <td>-0.121426</td>\n",
       "      <td>0.125508</td>\n",
       "      <td>-1.275532</td>\n",
       "      <td>1.265725</td>\n",
       "      <td>-0.849170</td>\n",
       "      <td>0.864654</td>\n",
       "      <td>-1.460141</td>\n",
       "      <td>1.464332</td>\n",
       "    </tr>\n",
       "    <tr>\n",
       "      <th>95</th>\n",
       "      <td>-0.950045</td>\n",
       "      <td>0.341036</td>\n",
       "      <td>0.571165</td>\n",
       "      <td>-0.989743</td>\n",
       "      <td>-0.239470</td>\n",
       "      <td>-0.835831</td>\n",
       "      <td>-1.180447</td>\n",
       "      <td>-0.754816</td>\n",
       "      <td>-0.817641</td>\n",
       "      <td>-0.563189</td>\n",
       "      <td>-0.297222</td>\n",
       "      <td>0.301946</td>\n",
       "      <td>1.427739</td>\n",
       "      <td>0.628483</td>\n",
       "      <td>-0.472193</td>\n",
       "      <td>0.485145</td>\n",
       "      <td>0.645936</td>\n",
       "      <td>-0.647790</td>\n",
       "    </tr>\n",
       "    <tr>\n",
       "      <th>96</th>\n",
       "      <td>-0.051270</td>\n",
       "      <td>0.878929</td>\n",
       "      <td>0.793333</td>\n",
       "      <td>1.010363</td>\n",
       "      <td>1.872221</td>\n",
       "      <td>0.727072</td>\n",
       "      <td>-1.180447</td>\n",
       "      <td>-0.754816</td>\n",
       "      <td>-0.817641</td>\n",
       "      <td>-1.298112</td>\n",
       "      <td>-0.121426</td>\n",
       "      <td>0.125508</td>\n",
       "      <td>-1.275532</td>\n",
       "      <td>1.265725</td>\n",
       "      <td>-0.849170</td>\n",
       "      <td>0.864654</td>\n",
       "      <td>-1.460141</td>\n",
       "      <td>1.464332</td>\n",
       "    </tr>\n",
       "  </tbody>\n",
       "</table>\n",
       "<p>97 rows × 18 columns</p>\n",
       "</div>"
      ],
      "text/plain": [
       "         AGE    HEIGHT    WEIGHT       SEX  ACTIVITY LEVEL    PAIN 1  \\\n",
       "0   0.547913 -1.003699 -0.956237 -0.989743       -0.239470 -0.835831   \n",
       "1   0.487994  0.878929 -0.067566  1.010363       -2.351162  1.899250   \n",
       "2  -0.830208  0.878929  1.126584  1.010363       -2.351162 -0.835831   \n",
       "3   0.428076  0.072089  0.432311  1.010363        1.872221  2.876064   \n",
       "4   0.068566 -0.734752  1.098814 -0.989743        1.872221  0.727072   \n",
       "..       ...       ...       ...       ...             ...       ...   \n",
       "92 -1.669064 -2.079486 -1.650511  1.010363        1.872221 -0.835831   \n",
       "93  0.068566 -1.003699 -0.706298 -0.989743        1.872221 -0.835831   \n",
       "94 -0.051270  0.878929  0.793333  1.010363        1.872221 -0.054379   \n",
       "95 -0.950045  0.341036  0.571165 -0.989743       -0.239470 -0.835831   \n",
       "96 -0.051270  0.878929  0.793333  1.010363        1.872221  0.727072   \n",
       "\n",
       "      PAIN 2    PAIN 3    PAIN 4      MBTI         E         I         S  \\\n",
       "0  -1.180447 -0.754816 -0.817641 -0.563189  0.933351 -0.933122  0.388019   \n",
       "1   1.339572  1.187283  0.151538  1.641582 -1.176203  1.184138 -0.235813   \n",
       "2  -1.180447 -0.754816 -0.817641 -0.073240  0.405962 -0.403807  0.180075   \n",
       "3   1.812075  2.935172 -0.333051  1.641582 -1.176203  1.184138  1.219795   \n",
       "4   0.394565  0.022024 -0.171521 -1.543087  0.230166 -0.227369  1.011851   \n",
       "..       ...       ...       ...       ...       ...       ...       ...   \n",
       "92 -1.180447 -0.754816  0.151538  0.171735  1.109147 -1.109561  1.427739   \n",
       "93  0.079562 -0.754816 -0.817641 -0.563189 -0.297222  0.301946  0.388019   \n",
       "94 -1.180447 -0.754816 -0.817641 -1.298112 -0.121426  0.125508 -1.275532   \n",
       "95 -1.180447 -0.754816 -0.817641 -0.563189 -0.297222  0.301946  1.427739   \n",
       "96 -1.180447 -0.754816 -0.817641 -1.298112 -0.121426  0.125508 -1.275532   \n",
       "\n",
       "           N         T         F         J         P  \n",
       "0  -0.433588 -0.283704 -0.084118  1.347962 -1.351831  \n",
       "1   0.203655  1.978158 -1.981663  0.470430 -0.471780  \n",
       "2  -0.221173  0.847227 -0.843136  0.294923 -0.295770  \n",
       "3  -1.283244  0.470250 -0.463627  1.523469 -1.527841  \n",
       "4  -1.070830 -0.283704  0.295391  0.996949 -0.999811  \n",
       "..       ...       ...       ...       ...       ...  \n",
       "92 -1.495658  1.601181 -1.602154 -1.460141  1.464332  \n",
       "93 -0.433588 -0.849170  0.864654  0.470430 -0.471780  \n",
       "94  1.265725 -0.849170  0.864654 -1.460141  1.464332  \n",
       "95  0.628483 -0.472193  0.485145  0.645936 -0.647790  \n",
       "96  1.265725 -0.849170  0.864654 -1.460141  1.464332  \n",
       "\n",
       "[97 rows x 18 columns]"
      ]
     },
     "execution_count": 34,
     "metadata": {},
     "output_type": "execute_result"
    }
   ],
   "source": [
    "# creating new data set with scaled features\n",
    "df_feat = pd.DataFrame(scaled_features,columns=df.columns[:-1])\n",
    "df_feat"
   ]
  },
  {
   "cell_type": "code",
   "execution_count": 35,
   "id": "80170ea2-df35-412c-a92c-a51293646a59",
   "metadata": {},
   "outputs": [],
   "source": [
    "# assigning the variables\n",
    "X_knn = df_feat\n",
    "y_knn = df['POSTURE']\n",
    "\n",
    "# splitting the data set\n",
    "X_train, X_test, y_train, y_test = train_test_split(X_knn, y_knn, test_size=0.2, random_state=42)"
   ]
  },
  {
   "cell_type": "code",
   "execution_count": 36,
   "id": "bb79bcd5-6e51-4cba-80ac-3798894b13e9",
   "metadata": {},
   "outputs": [],
   "source": [
    "# importing KNN\n",
    "from sklearn.neighbors import KNeighborsClassifier\n",
    "\n",
    "# creating instance of KNN with 1 neighbour \n",
    "knn = KNeighborsClassifier(n_neighbors=1) "
   ]
  },
  {
   "cell_type": "code",
   "execution_count": 37,
   "id": "1b3cef7e-d41e-4a9a-ac04-279dc5a6a008",
   "metadata": {},
   "outputs": [],
   "source": [
    "# fitting the model\n",
    "knn.fit(X_train,y_train)\n",
    "\n",
    "# making predictions\n",
    "pred = knn.predict(X_test)"
   ]
  },
  {
   "cell_type": "code",
   "execution_count": 38,
   "id": "6bc168df-a654-4973-b1ac-b111ac3295a0",
   "metadata": {},
   "outputs": [
    {
     "name": "stdout",
     "output_type": "stream",
     "text": [
      "[[3 2 2 0]\n",
      " [3 1 1 2]\n",
      " [0 1 1 2]\n",
      " [0 1 1 0]]\n",
      "              precision    recall  f1-score   support\n",
      "\n",
      "           0       0.50      0.43      0.46         7\n",
      "           1       0.20      0.14      0.17         7\n",
      "           2       0.20      0.25      0.22         4\n",
      "           3       0.00      0.00      0.00         2\n",
      "\n",
      "    accuracy                           0.25        20\n",
      "   macro avg       0.22      0.21      0.21        20\n",
      "weighted avg       0.29      0.25      0.26        20\n",
      "\n"
     ]
    }
   ],
   "source": [
    "# getting the performance\n",
    "print(confusion_matrix(y_test,pred))\n",
    "print(classification_report(y_test,pred))"
   ]
  },
  {
   "cell_type": "markdown",
   "id": "7b5674a0-6809-427a-9d86-eb79335c118b",
   "metadata": {},
   "source": [
    "The performance of this model is really bad. However, I set the value of n_neighbours to 1, which may not be the best fit for this model. I will try to find the best number of neighbours to improve the performance of this model. "
   ]
  },
  {
   "cell_type": "code",
   "execution_count": 39,
   "id": "ef57d90d-ee66-4829-b1d8-13933fbed12c",
   "metadata": {},
   "outputs": [],
   "source": [
    "# creating empty list to store error rates\n",
    "error_rate = []\n",
    "\n",
    "for i in range(1,40):\n",
    "    \n",
    "    knn = KNeighborsClassifier(n_neighbors=i)\n",
    "    knn.fit(X_train,y_train)\n",
    "    pred_i = knn.predict(X_test)\n",
    "    error_rate.append(np.mean(pred_i != y_test)) \n",
    "    # avarage of where the predictions are not equal to the correct values"
   ]
  },
  {
   "cell_type": "code",
   "execution_count": 40,
   "id": "14f31e01-c96b-4dd4-94a4-6786291aa809",
   "metadata": {},
   "outputs": [
    {
     "data": {
      "text/plain": [
       "Text(0, 0.5, 'Error rate')"
      ]
     },
     "execution_count": 40,
     "metadata": {},
     "output_type": "execute_result"
    },
    {
     "data": {
      "image/png": "[encoded data removed]",
      "text/plain": [
       "<Figure size 1000x600 with 1 Axes>"
      ]
     },
     "metadata": {},
     "output_type": "display_data"
    }
   ],
   "source": [
    "# plotting the results\n",
    "plt.figure(figsize=(10,6))\n",
    "plt.plot(range(1,40),error_rate,color='blue',linestyle='dashed',marker='o',markerfacecolor='red',markersize=10)\n",
    "plt.title('Error Rate vs K Value')\n",
    "plt.xlabel('K')\n",
    "plt.ylabel('Error rate')"
   ]
  },
  {
   "cell_type": "markdown",
   "id": "a80e9073-8a37-4ca7-9770-e8f56416c279",
   "metadata": {},
   "source": [
    "The smallest error rate is when K equals 25. I will change the number of n_neighbours to 25. "
   ]
  },
  {
   "cell_type": "code",
   "execution_count": 41,
   "id": "9f962c81-9589-4d0c-8f72-974e8a175149",
   "metadata": {},
   "outputs": [],
   "source": [
    "from sklearn.metrics import precision_recall_fscore_support\n",
    "precision, recall, fscore, support = precision_recall_fscore_support(y_test, pred, average='weighted', zero_division=0)"
   ]
  },
  {
   "cell_type": "code",
   "execution_count": 42,
   "id": "9e788a13-ba88-447c-be3c-0952787e1ac8",
   "metadata": {},
   "outputs": [
    {
     "name": "stdout",
     "output_type": "stream",
     "text": [
      "[[2 4 0 1]\n",
      " [0 7 0 0]\n",
      " [0 4 0 0]\n",
      " [0 2 0 0]]\n",
      "              precision    recall  f1-score   support\n",
      "\n",
      "           0       1.00      0.29      0.44         7\n",
      "           1       0.41      1.00      0.58         7\n",
      "           2       0.00      0.00      0.00         4\n",
      "           3       0.00      0.00      0.00         2\n",
      "\n",
      "    accuracy                           0.45        20\n",
      "   macro avg       0.35      0.32      0.26        20\n",
      "weighted avg       0.49      0.45      0.36        20\n",
      "\n"
     ]
    },
    {
     "name": "stderr",
     "output_type": "stream",
     "text": [
      "/Users/przemyslawgolonka/opt/miniconda3/envs/tensorflow/lib/python3.9/site-packages/sklearn/metrics/_classification.py:1334: UndefinedMetricWarning: Precision and F-score are ill-defined and being set to 0.0 in labels with no predicted samples. Use `zero_division` parameter to control this behavior.\n",
      "  _warn_prf(average, modifier, msg_start, len(result))\n",
      "/Users/przemyslawgolonka/opt/miniconda3/envs/tensorflow/lib/python3.9/site-packages/sklearn/metrics/_classification.py:1334: UndefinedMetricWarning: Precision and F-score are ill-defined and being set to 0.0 in labels with no predicted samples. Use `zero_division` parameter to control this behavior.\n",
      "  _warn_prf(average, modifier, msg_start, len(result))\n",
      "/Users/przemyslawgolonka/opt/miniconda3/envs/tensorflow/lib/python3.9/site-packages/sklearn/metrics/_classification.py:1334: UndefinedMetricWarning: Precision and F-score are ill-defined and being set to 0.0 in labels with no predicted samples. Use `zero_division` parameter to control this behavior.\n",
      "  _warn_prf(average, modifier, msg_start, len(result))\n"
     ]
    }
   ],
   "source": [
    "knn = KNeighborsClassifier(n_neighbors=25)\n",
    "knn.fit(X_train,y_train)\n",
    "pred = knn.predict(X_test)\n",
    "print(confusion_matrix(y_test,pred))\n",
    "\n",
    "print(classification_report(y_test,pred))"
   ]
  },
  {
   "cell_type": "markdown",
   "id": "09e49e06-0e5d-4b4c-a5df-105a74033038",
   "metadata": {},
   "source": [
    "Changing the number of n_neighbours improved the performance, however, the outcome is simmilar to the approaches used prevoiusly. \n",
    "I will also use keras and try deep learning in order to get better outcome. "
   ]
  },
  {
   "cell_type": "markdown",
   "id": "d361821a-1c6c-4e4d-833f-ccb59a8f9496",
   "metadata": {},
   "source": [
    "### Machine Learning: Multiclass classification with Tensorflow"
   ]
  },
  {
   "cell_type": "code",
   "execution_count": 43,
   "id": "51a2f942-d2a5-4411-9168-1e05b89de8f5",
   "metadata": {},
   "outputs": [],
   "source": [
    "# importing tensor flow \n",
    "import tensorflow as tf "
   ]
  },
  {
   "cell_type": "code",
   "execution_count": 44,
   "id": "e5616486-899f-4229-b078-04ac1edb90b7",
   "metadata": {},
   "outputs": [],
   "source": [
    "# assigning the features and the target variable \n",
    "X = df.drop('POSTURE',axis=1).values\n",
    "y = df['POSTURE'].values"
   ]
  },
  {
   "cell_type": "code",
   "execution_count": 45,
   "id": "09a3e0bf-36e9-4063-ae95-e77623680059",
   "metadata": {},
   "outputs": [],
   "source": [
    "# splitting the data\n",
    "X_train, X_test, y_train, y_test = train_test_split(X, y, test_size=0.2, random_state=42)"
   ]
  },
  {
   "cell_type": "code",
   "execution_count": 46,
   "id": "8ade3838-c4c6-43fd-b97e-348127390e48",
   "metadata": {},
   "outputs": [],
   "source": [
    "# importing minmax scaler \n",
    "from sklearn.preprocessing import MinMaxScaler\n",
    "\n",
    "# creating a scaler\n",
    "scaler = MinMaxScaler()\n",
    "\n",
    "# fitting and transforming the train set\n",
    "X_train = scaler.fit_transform(X_train)\n",
    "\n",
    "# transforming the test set\n",
    "X_test = scaler.transform(X_test)"
   ]
  },
  {
   "cell_type": "code",
   "execution_count": 47,
   "id": "467f4d40-5b3b-4391-a409-fd56923fb973",
   "metadata": {},
   "outputs": [],
   "source": [
    "# importing syntax for deep learning\n",
    "from tensorflow.keras.models import Sequential\n",
    "from tensorflow.keras.layers import Dense,Activation,Dropout\n",
    "from tensorflow.keras import optimizers"
   ]
  },
  {
   "cell_type": "code",
   "execution_count": 48,
   "id": "35cd1304-60de-489a-b434-92e5c6e0832e",
   "metadata": {},
   "outputs": [
    {
     "data": {
      "text/plain": [
       "(77, 18)"
      ]
     },
     "execution_count": 48,
     "metadata": {},
     "output_type": "execute_result"
    }
   ],
   "source": [
    "# checking the shape of X_train\n",
    "X_train.shape"
   ]
  },
  {
   "cell_type": "code",
   "execution_count": 49,
   "id": "395d9b53-138c-46fc-84ec-134aff260c37",
   "metadata": {},
   "outputs": [
    {
     "data": {
      "text/plain": [
       "4"
      ]
     },
     "execution_count": 49,
     "metadata": {},
     "output_type": "execute_result"
    }
   ],
   "source": [
    "# checking the number of classes in target variable\n",
    "n_classes = len(np.unique(y_test))\n",
    "n_classes"
   ]
  },
  {
   "cell_type": "code",
   "execution_count": 50,
   "id": "daac6f30-85ca-437b-a6e8-dae5e65a80a0",
   "metadata": {},
   "outputs": [
    {
     "name": "stdout",
     "output_type": "stream",
     "text": [
      "Metal device set to: Apple M2\n"
     ]
    },
    {
     "name": "stderr",
     "output_type": "stream",
     "text": [
      "2023-02-17 19:57:55.799947: I tensorflow/core/common_runtime/pluggable_device/pluggable_device_factory.cc:306] Could not identify NUMA node of platform GPU ID 0, defaulting to 0. Your kernel may not have been built with NUMA support.\n",
      "2023-02-17 19:57:55.800210: I tensorflow/core/common_runtime/pluggable_device/pluggable_device_factory.cc:272] Created TensorFlow device (/job:localhost/replica:0/task:0/device:GPU:0 with 0 MB memory) -> physical PluggableDevice (device: 0, name: METAL, pci bus id: <undefined>)\n"
     ]
    }
   ],
   "source": [
    "# creating a model \n",
    "model = Sequential()\n",
    "\n",
    "model.add(Dense(18,activation='softmax'))\n",
    "model.add(Dropout(0.2))\n",
    "\n",
    "model.add(Dense(6,activation='softmax'))\n",
    "model.add(Dropout(0.2))\n",
    "\n",
    "model.add(Dense(6,activation='softmax'))\n",
    "model.add(Dropout(0.2))\n",
    "\n",
    "model.add(Dense(6,activation='softmax'))\n",
    "model.add(Dropout(0.2))\n",
    "\n",
    "# adding output layer with 4 units \n",
    "model.add(Dense(units=4,activation='softmax'))\n",
    "\n",
    "# compile the model with adam opitmizer and categorical crossentropy as loss function\n",
    "model.compile(optimizer='adam',loss='categorical_crossentropy')"
   ]
  },
  {
   "cell_type": "code",
   "execution_count": 51,
   "id": "72fe166c-637d-46b7-afaa-791d712efcdf",
   "metadata": {},
   "outputs": [],
   "source": [
    "# importing early stopping\n",
    "from tensorflow.keras.callbacks import EarlyStopping\n",
    "early_stop = EarlyStopping(monitor='val_loss', patience=20)"
   ]
  },
  {
   "cell_type": "markdown",
   "id": "30ae28a8-d4d8-4363-8c90-004d2655639d",
   "metadata": {},
   "source": [
    "While running the code, I got some value error and this is why I had to use to_categorical function in order to be sure thaat my code will run without any problem. "
   ]
  },
  {
   "cell_type": "code",
   "execution_count": 52,
   "id": "ddf2124d-5f38-4c5f-b79e-427c37be3fbb",
   "metadata": {},
   "outputs": [],
   "source": [
    "from keras.utils import to_categorical\n",
    "y_train = to_categorical(y_train, num_classes=4)\n",
    "y_test = to_categorical(y_test, num_classes=4)"
   ]
  },
  {
   "cell_type": "code",
   "execution_count": 53,
   "id": "68645927-5e66-4c64-8e93-7bbd2947e3f8",
   "metadata": {},
   "outputs": [
    {
     "name": "stdout",
     "output_type": "stream",
     "text": [
      "Epoch 1/250\n"
     ]
    },
    {
     "name": "stderr",
     "output_type": "stream",
     "text": [
      "2023-02-17 19:57:57.520106: W tensorflow/core/platform/profile_utils/cpu_utils.cc:128] Failed to get CPU frequency: 0 Hz\n",
      "2023-02-17 19:57:57.749917: I tensorflow/core/grappler/optimizers/custom_graph_optimizer_registry.cc:114] Plugin optimizer for device_type GPU is enabled.\n"
     ]
    },
    {
     "name": "stdout",
     "output_type": "stream",
     "text": [
      "2/2 [==============================] - 1s 185ms/step - loss: 1.3753 - val_loss: 1.3871\n",
      "Epoch 2/250\n",
      "2/2 [==============================] - 0s 27ms/step - loss: 1.3731 - val_loss: 1.3867\n",
      "Epoch 3/250\n",
      "2/2 [==============================] - 0s 27ms/step - loss: 1.3754 - val_loss: 1.3865\n",
      "Epoch 4/250\n",
      "2/2 [==============================] - 0s 25ms/step - loss: 1.3602 - val_loss: 1.3860\n",
      "Epoch 5/250\n",
      "2/2 [==============================] - 0s 24ms/step - loss: 1.3722 - val_loss: 1.3854\n",
      "Epoch 6/250\n",
      "1/2 [==============>...............] - ETA: 0s - loss: 1.3702"
     ]
    },
    {
     "name": "stderr",
     "output_type": "stream",
     "text": [
      "2023-02-17 19:57:58.125811: I tensorflow/core/grappler/optimizers/custom_graph_optimizer_registry.cc:114] Plugin optimizer for device_type GPU is enabled.\n"
     ]
    },
    {
     "name": "stdout",
     "output_type": "stream",
     "text": [
      "2/2 [==============================] - 0s 25ms/step - loss: 1.3808 - val_loss: 1.3849\n",
      "Epoch 7/250\n",
      "2/2 [==============================] - 0s 26ms/step - loss: 1.3545 - val_loss: 1.3847\n",
      "Epoch 8/250\n",
      "2/2 [==============================] - 0s 26ms/step - loss: 1.3757 - val_loss: 1.3845\n",
      "Epoch 9/250\n",
      "2/2 [==============================] - 0s 25ms/step - loss: 1.3698 - val_loss: 1.3844\n",
      "Epoch 10/250\n",
      "2/2 [==============================] - 0s 25ms/step - loss: 1.3686 - val_loss: 1.3844\n",
      "Epoch 11/250\n",
      "2/2 [==============================] - 0s 25ms/step - loss: 1.3853 - val_loss: 1.3844\n",
      "Epoch 12/250\n",
      "2/2 [==============================] - 0s 23ms/step - loss: 1.3556 - val_loss: 1.3844\n",
      "Epoch 13/250\n",
      "2/2 [==============================] - 0s 24ms/step - loss: 1.3540 - val_loss: 1.3843\n",
      "Epoch 14/250\n",
      "2/2 [==============================] - 0s 25ms/step - loss: 1.3632 - val_loss: 1.3842\n",
      "Epoch 15/250\n",
      "2/2 [==============================] - 0s 25ms/step - loss: 1.3536 - val_loss: 1.3841\n",
      "Epoch 16/250\n",
      "2/2 [==============================] - 0s 24ms/step - loss: 1.3615 - val_loss: 1.3839\n",
      "Epoch 17/250\n",
      "2/2 [==============================] - 0s 26ms/step - loss: 1.3662 - val_loss: 1.3837\n",
      "Epoch 18/250\n",
      "2/2 [==============================] - 0s 26ms/step - loss: 1.3553 - val_loss: 1.3835\n",
      "Epoch 19/250\n",
      "2/2 [==============================] - 0s 24ms/step - loss: 1.3641 - val_loss: 1.3832\n",
      "Epoch 20/250\n",
      "2/2 [==============================] - 0s 26ms/step - loss: 1.3823 - val_loss: 1.3829\n",
      "Epoch 21/250\n",
      "2/2 [==============================] - 0s 24ms/step - loss: 1.3441 - val_loss: 1.3826\n",
      "Epoch 22/250\n",
      "2/2 [==============================] - 0s 24ms/step - loss: 1.3689 - val_loss: 1.3823\n",
      "Epoch 23/250\n",
      "2/2 [==============================] - 0s 24ms/step - loss: 1.3598 - val_loss: 1.3820\n",
      "Epoch 24/250\n",
      "2/2 [==============================] - 0s 24ms/step - loss: 1.3574 - val_loss: 1.3817\n",
      "Epoch 25/250\n",
      "2/2 [==============================] - 0s 23ms/step - loss: 1.3646 - val_loss: 1.3816\n",
      "Epoch 26/250\n",
      "2/2 [==============================] - 0s 24ms/step - loss: 1.3489 - val_loss: 1.3815\n",
      "Epoch 27/250\n",
      "2/2 [==============================] - 0s 24ms/step - loss: 1.3752 - val_loss: 1.3814\n",
      "Epoch 28/250\n",
      "2/2 [==============================] - 0s 26ms/step - loss: 1.3535 - val_loss: 1.3813\n",
      "Epoch 29/250\n",
      "2/2 [==============================] - 0s 23ms/step - loss: 1.3677 - val_loss: 1.3812\n",
      "Epoch 30/250\n",
      "2/2 [==============================] - 0s 26ms/step - loss: 1.3641 - val_loss: 1.3811\n",
      "Epoch 31/250\n",
      "2/2 [==============================] - 0s 25ms/step - loss: 1.3538 - val_loss: 1.3810\n",
      "Epoch 32/250\n",
      "2/2 [==============================] - 0s 25ms/step - loss: 1.3547 - val_loss: 1.3808\n",
      "Epoch 33/250\n",
      "2/2 [==============================] - 0s 26ms/step - loss: 1.3575 - val_loss: 1.3806\n",
      "Epoch 34/250\n",
      "2/2 [==============================] - 0s 24ms/step - loss: 1.3633 - val_loss: 1.3805\n",
      "Epoch 35/250\n",
      "2/2 [==============================] - 0s 24ms/step - loss: 1.3761 - val_loss: 1.3804\n",
      "Epoch 36/250\n",
      "2/2 [==============================] - 0s 25ms/step - loss: 1.3514 - val_loss: 1.3803\n",
      "Epoch 37/250\n",
      "2/2 [==============================] - 0s 24ms/step - loss: 1.3550 - val_loss: 1.3802\n",
      "Epoch 38/250\n",
      "2/2 [==============================] - 0s 24ms/step - loss: 1.3628 - val_loss: 1.3800\n",
      "Epoch 39/250\n",
      "2/2 [==============================] - 0s 26ms/step - loss: 1.3573 - val_loss: 1.3799\n",
      "Epoch 40/250\n",
      "2/2 [==============================] - 0s 26ms/step - loss: 1.3692 - val_loss: 1.3798\n",
      "Epoch 41/250\n",
      "2/2 [==============================] - 0s 24ms/step - loss: 1.3729 - val_loss: 1.3798\n",
      "Epoch 42/250\n",
      "2/2 [==============================] - 0s 24ms/step - loss: 1.3696 - val_loss: 1.3798\n",
      "Epoch 43/250\n",
      "2/2 [==============================] - 0s 25ms/step - loss: 1.3434 - val_loss: 1.3800\n",
      "Epoch 44/250\n",
      "2/2 [==============================] - 0s 25ms/step - loss: 1.3523 - val_loss: 1.3800\n",
      "Epoch 45/250\n",
      "2/2 [==============================] - 0s 26ms/step - loss: 1.3500 - val_loss: 1.3800\n",
      "Epoch 46/250\n",
      "2/2 [==============================] - 0s 26ms/step - loss: 1.3569 - val_loss: 1.3801\n",
      "Epoch 47/250\n",
      "2/2 [==============================] - 0s 26ms/step - loss: 1.3613 - val_loss: 1.3802\n",
      "Epoch 48/250\n",
      "2/2 [==============================] - 0s 24ms/step - loss: 1.3743 - val_loss: 1.3802\n",
      "Epoch 49/250\n",
      "2/2 [==============================] - 0s 24ms/step - loss: 1.3569 - val_loss: 1.3800\n",
      "Epoch 50/250\n",
      "2/2 [==============================] - 0s 23ms/step - loss: 1.3554 - val_loss: 1.3799\n",
      "Epoch 51/250\n",
      "2/2 [==============================] - 0s 24ms/step - loss: 1.3491 - val_loss: 1.3800\n",
      "Epoch 52/250\n",
      "2/2 [==============================] - 0s 27ms/step - loss: 1.3611 - val_loss: 1.3801\n",
      "Epoch 53/250\n",
      "2/2 [==============================] - 0s 23ms/step - loss: 1.3621 - val_loss: 1.3801\n",
      "Epoch 54/250\n",
      "2/2 [==============================] - 0s 25ms/step - loss: 1.3451 - val_loss: 1.3801\n",
      "Epoch 55/250\n",
      "2/2 [==============================] - 0s 24ms/step - loss: 1.3462 - val_loss: 1.3801\n",
      "Epoch 56/250\n",
      "2/2 [==============================] - 0s 23ms/step - loss: 1.3467 - val_loss: 1.3800\n",
      "Epoch 57/250\n",
      "2/2 [==============================] - 0s 24ms/step - loss: 1.3526 - val_loss: 1.3799\n",
      "Epoch 58/250\n",
      "2/2 [==============================] - 0s 24ms/step - loss: 1.3407 - val_loss: 1.3798\n",
      "Epoch 59/250\n",
      "2/2 [==============================] - 0s 22ms/step - loss: 1.3482 - val_loss: 1.3796\n",
      "Epoch 60/250\n",
      "2/2 [==============================] - 0s 23ms/step - loss: 1.3524 - val_loss: 1.3795\n",
      "Epoch 61/250\n",
      "2/2 [==============================] - 0s 23ms/step - loss: 1.3614 - val_loss: 1.3794\n",
      "Epoch 62/250\n",
      "2/2 [==============================] - 0s 24ms/step - loss: 1.3627 - val_loss: 1.3794\n",
      "Epoch 63/250\n",
      "2/2 [==============================] - 0s 22ms/step - loss: 1.3637 - val_loss: 1.3793\n",
      "Epoch 64/250\n",
      "2/2 [==============================] - 0s 26ms/step - loss: 1.3394 - val_loss: 1.3792\n",
      "Epoch 65/250\n",
      "2/2 [==============================] - 0s 24ms/step - loss: 1.3445 - val_loss: 1.3792\n",
      "Epoch 66/250\n",
      "2/2 [==============================] - 0s 25ms/step - loss: 1.3575 - val_loss: 1.3791\n",
      "Epoch 67/250\n",
      "2/2 [==============================] - 0s 27ms/step - loss: 1.3621 - val_loss: 1.3790\n",
      "Epoch 68/250\n",
      "2/2 [==============================] - 0s 26ms/step - loss: 1.3559 - val_loss: 1.3790\n",
      "Epoch 69/250\n",
      "2/2 [==============================] - 0s 25ms/step - loss: 1.3499 - val_loss: 1.3792\n",
      "Epoch 70/250\n",
      "2/2 [==============================] - 0s 27ms/step - loss: 1.3579 - val_loss: 1.3793\n",
      "Epoch 71/250\n",
      "2/2 [==============================] - 0s 26ms/step - loss: 1.3639 - val_loss: 1.3794\n",
      "Epoch 72/250\n",
      "2/2 [==============================] - 0s 24ms/step - loss: 1.3298 - val_loss: 1.3795\n",
      "Epoch 73/250\n",
      "2/2 [==============================] - 0s 23ms/step - loss: 1.3425 - val_loss: 1.3796\n",
      "Epoch 74/250\n",
      "2/2 [==============================] - 0s 24ms/step - loss: 1.3427 - val_loss: 1.3796\n",
      "Epoch 75/250\n",
      "2/2 [==============================] - 0s 23ms/step - loss: 1.3531 - val_loss: 1.3795\n",
      "Epoch 76/250\n",
      "2/2 [==============================] - 0s 24ms/step - loss: 1.3296 - val_loss: 1.3793\n",
      "Epoch 77/250\n",
      "2/2 [==============================] - 0s 22ms/step - loss: 1.3520 - val_loss: 1.3792\n",
      "Epoch 78/250\n",
      "2/2 [==============================] - 0s 24ms/step - loss: 1.3445 - val_loss: 1.3793\n",
      "Epoch 79/250\n",
      "2/2 [==============================] - 0s 23ms/step - loss: 1.3605 - val_loss: 1.3793\n",
      "Epoch 80/250\n",
      "2/2 [==============================] - 0s 23ms/step - loss: 1.3545 - val_loss: 1.3794\n",
      "Epoch 81/250\n",
      "2/2 [==============================] - 0s 25ms/step - loss: 1.3516 - val_loss: 1.3794\n",
      "Epoch 82/250\n",
      "2/2 [==============================] - 0s 24ms/step - loss: 1.3491 - val_loss: 1.3794\n",
      "Epoch 83/250\n",
      "2/2 [==============================] - 0s 23ms/step - loss: 1.3407 - val_loss: 1.3793\n",
      "Epoch 84/250\n",
      "2/2 [==============================] - 0s 23ms/step - loss: 1.3468 - val_loss: 1.3793\n",
      "Epoch 85/250\n",
      "2/2 [==============================] - 0s 22ms/step - loss: 1.3389 - val_loss: 1.3794\n",
      "Epoch 86/250\n",
      "2/2 [==============================] - 0s 23ms/step - loss: 1.3613 - val_loss: 1.3795\n",
      "Epoch 87/250\n",
      "2/2 [==============================] - 0s 22ms/step - loss: 1.3419 - val_loss: 1.3796\n"
     ]
    },
    {
     "data": {
      "text/plain": [
       "<keras.callbacks.History at 0x286cea7f0>"
      ]
     },
     "execution_count": 53,
     "metadata": {},
     "output_type": "execute_result"
    }
   ],
   "source": [
    "model.fit(x=X_train,\n",
    "          y=y_train,\n",
    "          validation_data=(X_test, y_test),\n",
    "          epochs=250,\n",
    "          batch_size=64,\n",
    "          callbacks=early_stop)"
   ]
  },
  {
   "cell_type": "code",
   "execution_count": 54,
   "id": "a60d519f-1562-4ef4-b518-1505f7d6d9cf",
   "metadata": {},
   "outputs": [],
   "source": [
    "losses = pd.DataFrame(model.history.history)"
   ]
  },
  {
   "cell_type": "code",
   "execution_count": 55,
   "id": "6b871df1-2c1f-4c9b-9e11-52f002978dc9",
   "metadata": {},
   "outputs": [
    {
     "data": {
      "text/plain": [
       "<AxesSubplot: >"
      ]
     },
     "execution_count": 55,
     "metadata": {},
     "output_type": "execute_result"
    },
    {
     "data": {
      "image/png": "[encoded data removed]",
      "text/plain": [
       "<Figure size 640x480 with 1 Axes>"
      ]
     },
     "metadata": {},
     "output_type": "display_data"
    }
   ],
   "source": [
    "losses[['loss','val_loss']].plot()"
   ]
  },
  {
   "cell_type": "markdown",
   "id": "c4e30436-4725-4c34-801b-1acd910c9847",
   "metadata": {},
   "source": [
    "By looking at the plot above it can be noticed that the val_loss curve is above the loss curve, which indicates overfitting. "
   ]
  },
  {
   "cell_type": "code",
   "execution_count": 56,
   "id": "f312f8aa-da1b-4acf-ae76-001e0584ff5b",
   "metadata": {},
   "outputs": [
    {
     "name": "stdout",
     "output_type": "stream",
     "text": [
      "1/1 [==============================] - 0s 58ms/step\n"
     ]
    },
    {
     "name": "stderr",
     "output_type": "stream",
     "text": [
      "2023-02-17 19:58:04.980668: I tensorflow/core/grappler/optimizers/custom_graph_optimizer_registry.cc:114] Plugin optimizer for device_type GPU is enabled.\n"
     ]
    }
   ],
   "source": [
    "predictions = model.predict(X_test)"
   ]
  },
  {
   "cell_type": "code",
   "execution_count": 57,
   "id": "3348cb2a-000b-46e0-922b-94962239f69e",
   "metadata": {},
   "outputs": [],
   "source": [
    "predictions_categorical = to_categorical(predictions)"
   ]
  },
  {
   "cell_type": "code",
   "execution_count": 58,
   "id": "26810266-b700-4b99-b199-65b247ec4e7b",
   "metadata": {},
   "outputs": [
    {
     "name": "stdout",
     "output_type": "stream",
     "text": [
      "Precision:  0.295\n",
      "Recall:  1.0\n",
      "F1 Score:  0.44781144781144777\n",
      "Support:  None\n"
     ]
    }
   ],
   "source": [
    "from sklearn.metrics import precision_recall_fscore_support\n",
    "\n",
    "predictions_categorical = np.squeeze(predictions_categorical, axis=-1)\n",
    "precision, recall, f1_score, support = precision_recall_fscore_support(y_test, predictions_categorical, average='weighted', zero_division=0)\n",
    "print(\"Precision: \", precision)\n",
    "print(\"Recall: \", recall)\n",
    "print(\"F1 Score: \", f1_score)\n",
    "print(\"Support: \", support)"
   ]
  },
  {
   "cell_type": "code",
   "execution_count": 59,
   "id": "431fd164-892f-4265-a6e4-274559a4aa73",
   "metadata": {},
   "outputs": [],
   "source": [
    "# second model "
   ]
  },
  {
   "cell_type": "markdown",
   "id": "fdb54bf1-b81b-4132-a3b0-8e9e1eb8a0ef",
   "metadata": {},
   "source": [
    "Since the X and y values were changed by to_categorical method, I decided to create new set of input and target values for each model. Then I will compare the performance of each model. "
   ]
  },
  {
   "cell_type": "code",
   "execution_count": 60,
   "id": "423ada24-1630-40cd-a9ca-ebba0060824b",
   "metadata": {},
   "outputs": [],
   "source": [
    "X_2 = df.drop('POSTURE',axis=1).values\n",
    "y_2 = df['POSTURE'].values"
   ]
  },
  {
   "cell_type": "code",
   "execution_count": 61,
   "id": "37739fa7-5999-4aaf-bf1f-f09577a28941",
   "metadata": {},
   "outputs": [],
   "source": [
    "# splitting the data\n",
    "X_train, X_test, y_train, y_test = train_test_split(X_2, y_2, test_size=0.2, random_state=42)"
   ]
  },
  {
   "cell_type": "code",
   "execution_count": 62,
   "id": "2c965c41-b2d9-4a0c-ace7-b6bad6d07541",
   "metadata": {},
   "outputs": [],
   "source": [
    "# importing minmax scaler \n",
    "from sklearn.preprocessing import MinMaxScaler\n",
    "\n",
    "# creating a scaler\n",
    "scaler = MinMaxScaler()\n",
    "\n",
    "# fitting and transforming the train set\n",
    "X_train = scaler.fit_transform(X_train)\n",
    "\n",
    "# transforming the test set\n",
    "X_test = scaler.transform(X_test)"
   ]
  },
  {
   "cell_type": "code",
   "execution_count": 63,
   "id": "f0e72355-e437-43e5-a9e8-9fa025c152aa",
   "metadata": {},
   "outputs": [],
   "source": [
    "# creating a model \n",
    "model_2 = Sequential()\n",
    "\n",
    "model_2.add(Dense(18,activation='softmax'))\n",
    "model_2.add(Dropout(0.2))\n",
    "\n",
    "model_2.add(Dense(18,activation='softmax'))\n",
    "model_2.add(Dropout(0.2))\n",
    "\n",
    "model_2.add(Dense(18,activation='softmax'))\n",
    "model_2.add(Dropout(0.2))\n",
    "\n",
    "model_2.add(Dense(18,activation='softmax'))\n",
    "model_2.add(Dropout(0.2))\n",
    "\n",
    "# adding output layer with 4 units \n",
    "model_2.add(Dense(units=4,activation='softmax'))\n",
    "\n",
    "# compile the model with adam opitmizer and categorical crossentropy as loss function\n",
    "model_2.compile(optimizer='adam',loss='categorical_crossentropy')"
   ]
  },
  {
   "cell_type": "code",
   "execution_count": 64,
   "id": "c173a596-cce5-48d5-a758-57ca88a0c196",
   "metadata": {},
   "outputs": [],
   "source": [
    "from keras.utils import to_categorical\n",
    "y_train = to_categorical(y_train, num_classes=4)\n",
    "y_test = to_categorical(y_test, num_classes=4)"
   ]
  },
  {
   "cell_type": "code",
   "execution_count": 65,
   "id": "ab8c5f25-08e3-428b-b28e-7f8e56f3810a",
   "metadata": {},
   "outputs": [
    {
     "name": "stdout",
     "output_type": "stream",
     "text": [
      "Epoch 1/250\n",
      "1/2 [==============>...............] - ETA: 0s - loss: 1.3937"
     ]
    },
    {
     "name": "stderr",
     "output_type": "stream",
     "text": [
      "2023-02-17 19:58:12.516983: I tensorflow/core/grappler/optimizers/custom_graph_optimizer_registry.cc:114] Plugin optimizer for device_type GPU is enabled.\n"
     ]
    },
    {
     "name": "stdout",
     "output_type": "stream",
     "text": [
      "2/2 [==============================] - 1s 152ms/step - loss: 1.4014 - val_loss: 1.3673\n",
      "Epoch 2/250\n",
      "2/2 [==============================] - 0s 29ms/step - loss: 1.3946 - val_loss: 1.3670\n",
      "Epoch 3/250\n",
      "2/2 [==============================] - 0s 27ms/step - loss: 1.3845 - val_loss: 1.3669\n",
      "Epoch 4/250\n",
      "2/2 [==============================] - 0s 24ms/step - loss: 1.3931 - val_loss: 1.3668\n",
      "Epoch 5/250\n",
      "2/2 [==============================] - 0s 23ms/step - loss: 1.3916 - val_loss: 1.3668\n",
      "Epoch 6/250\n",
      "1/2 [==============>...............] - ETA: 0s - loss: 1.3954"
     ]
    },
    {
     "name": "stderr",
     "output_type": "stream",
     "text": [
      "2023-02-17 19:58:12.773107: I tensorflow/core/grappler/optimizers/custom_graph_optimizer_registry.cc:114] Plugin optimizer for device_type GPU is enabled.\n"
     ]
    },
    {
     "name": "stdout",
     "output_type": "stream",
     "text": [
      "2/2 [==============================] - 0s 24ms/step - loss: 1.3950 - val_loss: 1.3669\n",
      "Epoch 7/250\n",
      "2/2 [==============================] - 0s 24ms/step - loss: 1.3886 - val_loss: 1.3669\n",
      "Epoch 8/250\n",
      "2/2 [==============================] - 0s 23ms/step - loss: 1.3908 - val_loss: 1.3667\n",
      "Epoch 9/250\n",
      "2/2 [==============================] - 0s 25ms/step - loss: 1.3908 - val_loss: 1.3666\n",
      "Epoch 10/250\n",
      "2/2 [==============================] - 0s 28ms/step - loss: 1.3975 - val_loss: 1.3665\n",
      "Epoch 11/250\n",
      "2/2 [==============================] - 0s 25ms/step - loss: 1.3964 - val_loss: 1.3664\n",
      "Epoch 12/250\n",
      "2/2 [==============================] - 0s 24ms/step - loss: 1.3913 - val_loss: 1.3663\n",
      "Epoch 13/250\n",
      "2/2 [==============================] - 0s 24ms/step - loss: 1.3887 - val_loss: 1.3662\n",
      "Epoch 14/250\n",
      "2/2 [==============================] - 0s 21ms/step - loss: 1.3834 - val_loss: 1.3662\n",
      "Epoch 15/250\n",
      "2/2 [==============================] - 0s 24ms/step - loss: 1.3883 - val_loss: 1.3663\n",
      "Epoch 16/250\n",
      "2/2 [==============================] - 0s 27ms/step - loss: 1.3827 - val_loss: 1.3662\n",
      "Epoch 17/250\n",
      "2/2 [==============================] - 0s 24ms/step - loss: 1.3828 - val_loss: 1.3660\n",
      "Epoch 18/250\n",
      "2/2 [==============================] - 0s 25ms/step - loss: 1.3803 - val_loss: 1.3658\n",
      "Epoch 19/250\n",
      "2/2 [==============================] - 0s 26ms/step - loss: 1.3859 - val_loss: 1.3656\n",
      "Epoch 20/250\n",
      "2/2 [==============================] - 0s 25ms/step - loss: 1.3839 - val_loss: 1.3654\n",
      "Epoch 21/250\n",
      "2/2 [==============================] - 0s 24ms/step - loss: 1.3697 - val_loss: 1.3651\n",
      "Epoch 22/250\n",
      "2/2 [==============================] - 0s 24ms/step - loss: 1.3828 - val_loss: 1.3649\n",
      "Epoch 23/250\n",
      "2/2 [==============================] - 0s 26ms/step - loss: 1.3825 - val_loss: 1.3646\n",
      "Epoch 24/250\n",
      "2/2 [==============================] - 0s 27ms/step - loss: 1.3763 - val_loss: 1.3642\n",
      "Epoch 25/250\n",
      "2/2 [==============================] - 0s 25ms/step - loss: 1.3799 - val_loss: 1.3638\n",
      "Epoch 26/250\n",
      "2/2 [==============================] - 0s 25ms/step - loss: 1.3817 - val_loss: 1.3634\n",
      "Epoch 27/250\n",
      "2/2 [==============================] - 0s 24ms/step - loss: 1.3779 - val_loss: 1.3631\n",
      "Epoch 28/250\n",
      "2/2 [==============================] - 0s 25ms/step - loss: 1.3770 - val_loss: 1.3628\n",
      "Epoch 29/250\n",
      "2/2 [==============================] - 0s 24ms/step - loss: 1.3722 - val_loss: 1.3626\n",
      "Epoch 30/250\n",
      "2/2 [==============================] - 0s 24ms/step - loss: 1.3720 - val_loss: 1.3624\n",
      "Epoch 31/250\n",
      "2/2 [==============================] - 0s 24ms/step - loss: 1.3736 - val_loss: 1.3623\n",
      "Epoch 32/250\n",
      "2/2 [==============================] - 0s 24ms/step - loss: 1.3768 - val_loss: 1.3622\n",
      "Epoch 33/250\n",
      "2/2 [==============================] - 0s 23ms/step - loss: 1.3731 - val_loss: 1.3620\n",
      "Epoch 34/250\n",
      "2/2 [==============================] - 0s 25ms/step - loss: 1.3745 - val_loss: 1.3619\n",
      "Epoch 35/250\n",
      "2/2 [==============================] - 0s 23ms/step - loss: 1.3663 - val_loss: 1.3617\n",
      "Epoch 36/250\n",
      "2/2 [==============================] - 0s 23ms/step - loss: 1.3666 - val_loss: 1.3616\n",
      "Epoch 37/250\n",
      "2/2 [==============================] - 0s 23ms/step - loss: 1.3751 - val_loss: 1.3616\n",
      "Epoch 38/250\n",
      "2/2 [==============================] - 0s 23ms/step - loss: 1.3674 - val_loss: 1.3616\n",
      "Epoch 39/250\n",
      "2/2 [==============================] - 0s 24ms/step - loss: 1.3710 - val_loss: 1.3615\n",
      "Epoch 40/250\n",
      "2/2 [==============================] - 0s 24ms/step - loss: 1.3674 - val_loss: 1.3615\n",
      "Epoch 41/250\n",
      "2/2 [==============================] - 0s 26ms/step - loss: 1.3733 - val_loss: 1.3614\n",
      "Epoch 42/250\n",
      "2/2 [==============================] - 0s 24ms/step - loss: 1.3708 - val_loss: 1.3612\n",
      "Epoch 43/250\n",
      "2/2 [==============================] - 0s 24ms/step - loss: 1.3723 - val_loss: 1.3611\n",
      "Epoch 44/250\n",
      "2/2 [==============================] - 0s 24ms/step - loss: 1.3681 - val_loss: 1.3610\n",
      "Epoch 45/250\n",
      "2/2 [==============================] - 0s 24ms/step - loss: 1.3724 - val_loss: 1.3609\n",
      "Epoch 46/250\n",
      "2/2 [==============================] - 0s 25ms/step - loss: 1.3663 - val_loss: 1.3609\n",
      "Epoch 47/250\n",
      "2/2 [==============================] - 0s 29ms/step - loss: 1.3605 - val_loss: 1.3610\n",
      "Epoch 48/250\n",
      "2/2 [==============================] - 0s 25ms/step - loss: 1.3706 - val_loss: 1.3612\n",
      "Epoch 49/250\n",
      "2/2 [==============================] - 0s 23ms/step - loss: 1.3673 - val_loss: 1.3614\n",
      "Epoch 50/250\n",
      "2/2 [==============================] - 0s 25ms/step - loss: 1.3659 - val_loss: 1.3615\n",
      "Epoch 51/250\n",
      "2/2 [==============================] - 0s 24ms/step - loss: 1.3711 - val_loss: 1.3617\n",
      "Epoch 52/250\n",
      "2/2 [==============================] - 0s 26ms/step - loss: 1.3704 - val_loss: 1.3620\n",
      "Epoch 53/250\n",
      "2/2 [==============================] - 0s 23ms/step - loss: 1.3647 - val_loss: 1.3623\n",
      "Epoch 54/250\n",
      "2/2 [==============================] - 0s 24ms/step - loss: 1.3624 - val_loss: 1.3626\n",
      "Epoch 55/250\n",
      "2/2 [==============================] - 0s 25ms/step - loss: 1.3603 - val_loss: 1.3629\n",
      "Epoch 56/250\n",
      "2/2 [==============================] - 0s 25ms/step - loss: 1.3657 - val_loss: 1.3630\n",
      "Epoch 57/250\n",
      "2/2 [==============================] - 0s 26ms/step - loss: 1.3626 - val_loss: 1.3630\n",
      "Epoch 58/250\n",
      "2/2 [==============================] - 0s 27ms/step - loss: 1.3623 - val_loss: 1.3629\n",
      "Epoch 59/250\n",
      "2/2 [==============================] - 0s 24ms/step - loss: 1.3598 - val_loss: 1.3626\n",
      "Epoch 60/250\n",
      "2/2 [==============================] - 0s 23ms/step - loss: 1.3650 - val_loss: 1.3624\n",
      "Epoch 61/250\n",
      "2/2 [==============================] - 0s 22ms/step - loss: 1.3589 - val_loss: 1.3622\n",
      "Epoch 62/250\n",
      "2/2 [==============================] - 0s 23ms/step - loss: 1.3621 - val_loss: 1.3621\n",
      "Epoch 63/250\n",
      "2/2 [==============================] - 0s 24ms/step - loss: 1.3550 - val_loss: 1.3619\n",
      "Epoch 64/250\n",
      "2/2 [==============================] - 0s 22ms/step - loss: 1.3604 - val_loss: 1.3617\n",
      "Epoch 65/250\n",
      "2/2 [==============================] - 0s 23ms/step - loss: 1.3587 - val_loss: 1.3615\n"
     ]
    },
    {
     "data": {
      "text/plain": [
       "<keras.callbacks.History at 0x286dc5e20>"
      ]
     },
     "execution_count": 65,
     "metadata": {},
     "output_type": "execute_result"
    }
   ],
   "source": [
    "model_2.fit(x=X_train,\n",
    "          y=y_train,\n",
    "          validation_data=(X_test, y_test),\n",
    "          epochs=250,\n",
    "          batch_size=64,\n",
    "          callbacks=early_stop)"
   ]
  },
  {
   "cell_type": "code",
   "execution_count": 66,
   "id": "3bda8187-5f87-477a-bec5-cb1643861ab9",
   "metadata": {},
   "outputs": [],
   "source": [
    "losses2 = pd.DataFrame(model_2.history.history)"
   ]
  },
  {
   "cell_type": "code",
   "execution_count": 67,
   "id": "378c095a-4a7c-4513-b9aa-1ac8bb0d4c84",
   "metadata": {},
   "outputs": [
    {
     "data": {
      "text/plain": [
       "<AxesSubplot: >"
      ]
     },
     "execution_count": 67,
     "metadata": {},
     "output_type": "execute_result"
    },
    {
     "data": {
      "image/png": "[encoded data removed]",
      "text/plain": [
       "<Figure size 640x480 with 1 Axes>"
      ]
     },
     "metadata": {},
     "output_type": "display_data"
    }
   ],
   "source": [
    "losses2[['loss','val_loss']].plot()"
   ]
  },
  {
   "cell_type": "markdown",
   "id": "8362a0a2-5395-4263-a8c9-337ddbfbf2d3",
   "metadata": {},
   "source": [
    "In the plot above, the situation is different: the curves meet at one point around 55 epoch."
   ]
  },
  {
   "cell_type": "code",
   "execution_count": 68,
   "id": "8b416274-701e-4254-8a7e-3038e1917e54",
   "metadata": {},
   "outputs": [
    {
     "name": "stdout",
     "output_type": "stream",
     "text": [
      "1/1 [==============================] - 0s 45ms/step\n"
     ]
    },
    {
     "name": "stderr",
     "output_type": "stream",
     "text": [
      "2023-02-17 19:58:57.518235: I tensorflow/core/grappler/optimizers/custom_graph_optimizer_registry.cc:114] Plugin optimizer for device_type GPU is enabled.\n"
     ]
    }
   ],
   "source": [
    "predictions2 = model_2.predict(X_test)"
   ]
  },
  {
   "cell_type": "code",
   "execution_count": 69,
   "id": "81ea2d30-3b8e-421b-a9a6-11d478691608",
   "metadata": {},
   "outputs": [],
   "source": [
    "predictions_categorical_2 = to_categorical(predictions2)"
   ]
  },
  {
   "cell_type": "code",
   "execution_count": 70,
   "id": "9cfb368a-40d7-43fb-a2b9-01636077124b",
   "metadata": {},
   "outputs": [
    {
     "name": "stdout",
     "output_type": "stream",
     "text": [
      "Precision:  0.295\n",
      "Recall:  1.0\n",
      "F1 Score:  0.44781144781144777\n",
      "Support:  None\n"
     ]
    }
   ],
   "source": [
    "from sklearn.metrics import precision_recall_fscore_support\n",
    "\n",
    "predictions_categorical_2 = np.squeeze(predictions_categorical_2, axis=-1)\n",
    "precision, recall, f1_score, support = precision_recall_fscore_support(y_test, predictions_categorical_2, average='weighted', zero_division=0)\n",
    "print(\"Precision: \", precision)\n",
    "print(\"Recall: \", recall)\n",
    "print(\"F1 Score: \", f1_score)\n",
    "print(\"Support: \", support)"
   ]
  },
  {
   "cell_type": "code",
   "execution_count": 71,
   "id": "13d499d7-3a3a-4065-975c-3a854263e256",
   "metadata": {},
   "outputs": [],
   "source": [
    "# third model"
   ]
  },
  {
   "cell_type": "code",
   "execution_count": 72,
   "id": "12415a8e-31d1-4b90-a74f-4c7f4c938ce7",
   "metadata": {},
   "outputs": [],
   "source": [
    "X_3 = df.drop('POSTURE',axis=1).values\n",
    "y_3 = df['POSTURE'].values"
   ]
  },
  {
   "cell_type": "code",
   "execution_count": 73,
   "id": "5fa4f7ad-b1c7-4ed0-97c6-3f59c248851e",
   "metadata": {},
   "outputs": [],
   "source": [
    "# splitting the data\n",
    "X_train, X_test, y_train, y_test = train_test_split(X_3, y_3, test_size=0.2, random_state=42)"
   ]
  },
  {
   "cell_type": "code",
   "execution_count": 74,
   "id": "7ea49e03-71bf-415e-90ae-11d980731d0b",
   "metadata": {},
   "outputs": [],
   "source": [
    "# importing minmax scaler \n",
    "from sklearn.preprocessing import MinMaxScaler\n",
    "\n",
    "# creating a scaler\n",
    "scaler = MinMaxScaler()\n",
    "\n",
    "# fitting and transforming the train set\n",
    "X_train = scaler.fit_transform(X_train)\n",
    "\n",
    "# transforming the test set\n",
    "X_test = scaler.transform(X_test)"
   ]
  },
  {
   "cell_type": "code",
   "execution_count": 75,
   "id": "bf473724-d436-4607-a707-16e6d45b633a",
   "metadata": {},
   "outputs": [],
   "source": [
    "# creating a model \n",
    "model_3 = Sequential()\n",
    "\n",
    "model_3.add(Dense(18,activation='softmax'))\n",
    "model_3.add(Dropout(0.2))\n",
    "\n",
    "model_3.add(Dense(12,activation='relu'))\n",
    "model_3.add(Dropout(0.2))\n",
    "\n",
    "# adding output layer with 4 units \n",
    "model_3.add(Dense(units=4,activation='softmax'))\n",
    "\n",
    "# compile the model with adam opitmizer and categorical crossentropy as loss function\n",
    "model_3.compile(optimizer='adam',loss='categorical_crossentropy')"
   ]
  },
  {
   "cell_type": "code",
   "execution_count": 76,
   "id": "1c370ed4-3942-4505-a20c-0d322608ae4b",
   "metadata": {},
   "outputs": [],
   "source": [
    "y_train = to_categorical(y_train, num_classes=4)\n",
    "y_test = to_categorical(y_test, num_classes=4)"
   ]
  },
  {
   "cell_type": "code",
   "execution_count": 77,
   "id": "aa2231f4-5c50-4753-baad-0fa9f08eceaf",
   "metadata": {},
   "outputs": [
    {
     "name": "stdout",
     "output_type": "stream",
     "text": [
      "Epoch 1/250\n",
      "2/2 [==============================] - ETA: 0s - loss: 1.3880"
     ]
    },
    {
     "name": "stderr",
     "output_type": "stream",
     "text": [
      "2023-02-17 19:59:04.576185: I tensorflow/core/grappler/optimizers/custom_graph_optimizer_registry.cc:114] Plugin optimizer for device_type GPU is enabled.\n",
      "2023-02-17 19:59:04.758083: I tensorflow/core/grappler/optimizers/custom_graph_optimizer_registry.cc:114] Plugin optimizer for device_type GPU is enabled.\n"
     ]
    },
    {
     "name": "stdout",
     "output_type": "stream",
     "text": [
      "2/2 [==============================] - 0s 123ms/step - loss: 1.3880 - val_loss: 1.3922\n",
      "Epoch 2/250\n",
      "2/2 [==============================] - 0s 24ms/step - loss: 1.3849 - val_loss: 1.3906\n",
      "Epoch 3/250\n",
      "2/2 [==============================] - 0s 26ms/step - loss: 1.3860 - val_loss: 1.3892\n",
      "Epoch 4/250\n",
      "2/2 [==============================] - 0s 27ms/step - loss: 1.3838 - val_loss: 1.3882\n",
      "Epoch 5/250\n",
      "2/2 [==============================] - 0s 23ms/step - loss: 1.3843 - val_loss: 1.3874\n",
      "Epoch 6/250\n",
      "2/2 [==============================] - 0s 26ms/step - loss: 1.3807 - val_loss: 1.3865\n",
      "Epoch 7/250\n",
      "2/2 [==============================] - 0s 24ms/step - loss: 1.3822 - val_loss: 1.3857\n",
      "Epoch 8/250\n",
      "2/2 [==============================] - 0s 28ms/step - loss: 1.3761 - val_loss: 1.3850\n",
      "Epoch 9/250\n",
      "2/2 [==============================] - 0s 27ms/step - loss: 1.3790 - val_loss: 1.3843\n",
      "Epoch 10/250\n",
      "2/2 [==============================] - 0s 24ms/step - loss: 1.3794 - val_loss: 1.3837\n",
      "Epoch 11/250\n",
      "2/2 [==============================] - 0s 22ms/step - loss: 1.3780 - val_loss: 1.3834\n",
      "Epoch 12/250\n",
      "2/2 [==============================] - 0s 22ms/step - loss: 1.3761 - val_loss: 1.3833\n",
      "Epoch 13/250\n",
      "2/2 [==============================] - 0s 23ms/step - loss: 1.3742 - val_loss: 1.3833\n",
      "Epoch 14/250\n",
      "2/2 [==============================] - 0s 24ms/step - loss: 1.3761 - val_loss: 1.3834\n",
      "Epoch 15/250\n",
      "2/2 [==============================] - 0s 23ms/step - loss: 1.3734 - val_loss: 1.3833\n",
      "Epoch 16/250\n",
      "2/2 [==============================] - 0s 23ms/step - loss: 1.3733 - val_loss: 1.3833\n",
      "Epoch 17/250\n",
      "2/2 [==============================] - 0s 22ms/step - loss: 1.3727 - val_loss: 1.3834\n",
      "Epoch 18/250\n",
      "2/2 [==============================] - 0s 25ms/step - loss: 1.3722 - val_loss: 1.3834\n",
      "Epoch 19/250\n",
      "2/2 [==============================] - 0s 23ms/step - loss: 1.3697 - val_loss: 1.3832\n",
      "Epoch 20/250\n",
      "2/2 [==============================] - 0s 22ms/step - loss: 1.3699 - val_loss: 1.3828\n",
      "Epoch 21/250\n",
      "2/2 [==============================] - 0s 24ms/step - loss: 1.3674 - val_loss: 1.3823\n",
      "Epoch 22/250\n",
      "2/2 [==============================] - 0s 22ms/step - loss: 1.3703 - val_loss: 1.3817\n",
      "Epoch 23/250\n",
      "2/2 [==============================] - 0s 27ms/step - loss: 1.3684 - val_loss: 1.3812\n",
      "Epoch 24/250\n",
      "2/2 [==============================] - 0s 26ms/step - loss: 1.3660 - val_loss: 1.3808\n",
      "Epoch 25/250\n",
      "2/2 [==============================] - 0s 23ms/step - loss: 1.3690 - val_loss: 1.3805\n",
      "Epoch 26/250\n",
      "2/2 [==============================] - 0s 22ms/step - loss: 1.3693 - val_loss: 1.3803\n",
      "Epoch 27/250\n",
      "2/2 [==============================] - 0s 22ms/step - loss: 1.3645 - val_loss: 1.3800\n",
      "Epoch 28/250\n",
      "2/2 [==============================] - 0s 23ms/step - loss: 1.3655 - val_loss: 1.3797\n",
      "Epoch 29/250\n",
      "2/2 [==============================] - 0s 21ms/step - loss: 1.3608 - val_loss: 1.3794\n",
      "Epoch 30/250\n",
      "2/2 [==============================] - 0s 25ms/step - loss: 1.3609 - val_loss: 1.3792\n",
      "Epoch 31/250\n",
      "2/2 [==============================] - 0s 22ms/step - loss: 1.3623 - val_loss: 1.3789\n",
      "Epoch 32/250\n",
      "2/2 [==============================] - 0s 22ms/step - loss: 1.3626 - val_loss: 1.3784\n",
      "Epoch 33/250\n",
      "2/2 [==============================] - 0s 24ms/step - loss: 1.3583 - val_loss: 1.3779\n",
      "Epoch 34/250\n",
      "2/2 [==============================] - 0s 22ms/step - loss: 1.3586 - val_loss: 1.3776\n",
      "Epoch 35/250\n",
      "2/2 [==============================] - 0s 25ms/step - loss: 1.3624 - val_loss: 1.3774\n",
      "Epoch 36/250\n",
      "2/2 [==============================] - 0s 25ms/step - loss: 1.3619 - val_loss: 1.3770\n",
      "Epoch 37/250\n",
      "2/2 [==============================] - 0s 24ms/step - loss: 1.3534 - val_loss: 1.3767\n",
      "Epoch 38/250\n",
      "2/2 [==============================] - 0s 24ms/step - loss: 1.3579 - val_loss: 1.3763\n",
      "Epoch 39/250\n",
      "2/2 [==============================] - 0s 21ms/step - loss: 1.3584 - val_loss: 1.3759\n",
      "Epoch 40/250\n",
      "2/2 [==============================] - 0s 24ms/step - loss: 1.3537 - val_loss: 1.3755\n",
      "Epoch 41/250\n",
      "2/2 [==============================] - 0s 23ms/step - loss: 1.3568 - val_loss: 1.3750\n",
      "Epoch 42/250\n",
      "2/2 [==============================] - 0s 25ms/step - loss: 1.3573 - val_loss: 1.3747\n",
      "Epoch 43/250\n",
      "2/2 [==============================] - 0s 23ms/step - loss: 1.3453 - val_loss: 1.3743\n",
      "Epoch 44/250\n",
      "2/2 [==============================] - 0s 27ms/step - loss: 1.3473 - val_loss: 1.3741\n",
      "Epoch 45/250\n",
      "2/2 [==============================] - 0s 24ms/step - loss: 1.3569 - val_loss: 1.3737\n",
      "Epoch 46/250\n",
      "2/2 [==============================] - 0s 25ms/step - loss: 1.3499 - val_loss: 1.3730\n",
      "Epoch 47/250\n",
      "2/2 [==============================] - 0s 22ms/step - loss: 1.3531 - val_loss: 1.3725\n",
      "Epoch 48/250\n",
      "2/2 [==============================] - 0s 23ms/step - loss: 1.3500 - val_loss: 1.3724\n",
      "Epoch 49/250\n",
      "2/2 [==============================] - 0s 22ms/step - loss: 1.3450 - val_loss: 1.3724\n",
      "Epoch 50/250\n",
      "2/2 [==============================] - 0s 24ms/step - loss: 1.3432 - val_loss: 1.3729\n",
      "Epoch 51/250\n",
      "2/2 [==============================] - 0s 23ms/step - loss: 1.3467 - val_loss: 1.3736\n",
      "Epoch 52/250\n",
      "2/2 [==============================] - 0s 25ms/step - loss: 1.3397 - val_loss: 1.3743\n",
      "Epoch 53/250\n",
      "2/2 [==============================] - 0s 23ms/step - loss: 1.3472 - val_loss: 1.3751\n",
      "Epoch 54/250\n",
      "2/2 [==============================] - 0s 26ms/step - loss: 1.3466 - val_loss: 1.3760\n",
      "Epoch 55/250\n",
      "2/2 [==============================] - 0s 22ms/step - loss: 1.3551 - val_loss: 1.3768\n",
      "Epoch 56/250\n",
      "2/2 [==============================] - 0s 24ms/step - loss: 1.3482 - val_loss: 1.3777\n",
      "Epoch 57/250\n",
      "2/2 [==============================] - 0s 23ms/step - loss: 1.3334 - val_loss: 1.3786\n",
      "Epoch 58/250\n",
      "2/2 [==============================] - 0s 21ms/step - loss: 1.3376 - val_loss: 1.3792\n",
      "Epoch 59/250\n",
      "2/2 [==============================] - 0s 22ms/step - loss: 1.3373 - val_loss: 1.3794\n",
      "Epoch 60/250\n",
      "2/2 [==============================] - 0s 22ms/step - loss: 1.3408 - val_loss: 1.3794\n",
      "Epoch 61/250\n",
      "2/2 [==============================] - 0s 23ms/step - loss: 1.3340 - val_loss: 1.3787\n",
      "Epoch 62/250\n",
      "2/2 [==============================] - 0s 23ms/step - loss: 1.3366 - val_loss: 1.3779\n",
      "Epoch 63/250\n",
      "2/2 [==============================] - 0s 21ms/step - loss: 1.3403 - val_loss: 1.3772\n",
      "Epoch 64/250\n",
      "2/2 [==============================] - 0s 22ms/step - loss: 1.3321 - val_loss: 1.3768\n",
      "Epoch 65/250\n",
      "2/2 [==============================] - 0s 21ms/step - loss: 1.3372 - val_loss: 1.3766\n",
      "Epoch 66/250\n",
      "2/2 [==============================] - 0s 22ms/step - loss: 1.3410 - val_loss: 1.3766\n",
      "Epoch 67/250\n",
      "2/2 [==============================] - 0s 22ms/step - loss: 1.3394 - val_loss: 1.3762\n",
      "Epoch 68/250\n",
      "2/2 [==============================] - 0s 23ms/step - loss: 1.3396 - val_loss: 1.3758\n"
     ]
    },
    {
     "data": {
      "text/plain": [
       "<keras.callbacks.History at 0x285e38760>"
      ]
     },
     "execution_count": 77,
     "metadata": {},
     "output_type": "execute_result"
    }
   ],
   "source": [
    "model_3.fit(x=X_train,\n",
    "          y=y_train,\n",
    "          validation_data=(X_test, y_test),\n",
    "          epochs=250,\n",
    "          batch_size=64,\n",
    "          callbacks=early_stop)"
   ]
  },
  {
   "cell_type": "code",
   "execution_count": 78,
   "id": "9c35422b-6b8b-4be9-b63a-6cd72e9e1044",
   "metadata": {},
   "outputs": [],
   "source": [
    "losses3 = pd.DataFrame(model_3.history.history)"
   ]
  },
  {
   "cell_type": "code",
   "execution_count": 79,
   "id": "2a9ef5d5-ec78-4a0e-8404-a4fbac7a7030",
   "metadata": {},
   "outputs": [
    {
     "data": {
      "text/plain": [
       "<AxesSubplot: >"
      ]
     },
     "execution_count": 79,
     "metadata": {},
     "output_type": "execute_result"
    },
    {
     "data": {
      "image/png": "[encoded data removed]",
      "text/plain": [
       "<Figure size 640x480 with 1 Axes>"
      ]
     },
     "metadata": {},
     "output_type": "display_data"
    }
   ],
   "source": [
    "losses3[['loss','val_loss']].plot()"
   ]
  },
  {
   "cell_type": "code",
   "execution_count": 80,
   "id": "54036cad-d2eb-4b19-bb2c-bab45d8008c9",
   "metadata": {},
   "outputs": [
    {
     "name": "stdout",
     "output_type": "stream",
     "text": [
      "1/1 [==============================] - 0s 37ms/step\n"
     ]
    },
    {
     "name": "stderr",
     "output_type": "stream",
     "text": [
      "2023-02-17 19:59:27.589212: I tensorflow/core/grappler/optimizers/custom_graph_optimizer_registry.cc:114] Plugin optimizer for device_type GPU is enabled.\n"
     ]
    }
   ],
   "source": [
    "predictions_3 = model_3.predict(X_test)"
   ]
  },
  {
   "cell_type": "code",
   "execution_count": 81,
   "id": "93dc4485-2938-4ee4-85be-e2e52afc595d",
   "metadata": {},
   "outputs": [],
   "source": [
    "predictions_categorical_3 = to_categorical(predictions_3)"
   ]
  },
  {
   "cell_type": "code",
   "execution_count": 82,
   "id": "80bbef23-c2cb-4dbc-bfe1-8ffe8e2ab3b5",
   "metadata": {},
   "outputs": [
    {
     "name": "stdout",
     "output_type": "stream",
     "text": [
      "Precision:  0.295\n",
      "Recall:  1.0\n",
      "F1 Score:  0.44781144781144777\n",
      "Support:  None\n"
     ]
    }
   ],
   "source": [
    "from sklearn.metrics import precision_recall_fscore_support\n",
    "\n",
    "predictions_categorical_3 = np.squeeze(predictions_categorical_3, axis=-1)\n",
    "precision, recall, f1_score, support = precision_recall_fscore_support(y_test, predictions_categorical_3, average='weighted', zero_division=0)\n",
    "print(\"Precision: \", precision)\n",
    "print(\"Recall: \", recall)\n",
    "print(\"F1 Score: \", f1_score)\n",
    "print(\"Support: \", support)"
   ]
  },
  {
   "cell_type": "markdown",
   "id": "cd655af1-d141-4132-948d-7062bf2e911b",
   "metadata": {},
   "source": [
    "Despite my efforts to improve the performance of the model using deep learning techniques such as adding more or fewer layers, adjusting the number of neurons, and exploring different activation functions, I have unfortunately not seen a significant improvement in the output. Although I had high hopes that these strategies would yield better results, I have not yet achieved the level of performance I was aiming for."
   ]
  },
  {
   "cell_type": "markdown",
   "id": "b8b401af-9190-4e26-9e1c-96d7a7c57445",
   "metadata": {},
   "source": [
    "### Conclusions:\n",
    "- introverts may be more likely to experience issues with maintaining good posture. \n",
    "- extroverts are more likely to exhibit good posture than introverts, there are certainly examples of individuals from both groups who struggle with maintaining proper alignment of the spine.\n",
    "- men generally exhibit better posture than women, but it is important to note that individual factors such as genetics, lifestyle, and occupation can have a significant impact on one's posture regardless of gender.\n",
    "- non-active lifestyle can contribute to back problems, but it is not a guarantee. Some individuals who are not very physically active may still have good posture, while others who are more physically active, may have problem with posture.\n",
    "- there is no strong correlation between personality type and posture. While it is possible that certain personality types may influence posture to some degree, there is no guarantee in that. \n",
    "- the decision tree model performed the best.\n",
    "- the implementing of the deep learning algorithms did not lead to improved model performance. This may be due to the relatively small size of the dataset, which may not have been sufficient to effectively train a deep learning model, as well as the lack of a strong correlation between the predictor variables and the target variable."
   ]
  },
  {
   "cell_type": "markdown",
   "id": "547a96ca-a42a-4b76-bd9f-511458a81e29",
   "metadata": {},
   "source": [
    "### References:\n",
    "1. Introduction: Kaggle 'Correlation between posture and personality trait'\n",
    "2. Data set: https://www.kaggle.com/datasets/dhanasekarjaisankar/correlation-between-posture-personality-trait"
   ]
  }
 ],
 "metadata": {
  "kernelspec": {
   "display_name": "Python 3.9 (tensorflow)",
   "language": "python",
   "name": "tensorflow"
  },
  "language_info": {
   "codemirror_mode": {
    "name": "ipython",
    "version": 3
   },
   "file_extension": ".py",
   "mimetype": "text/x-python",
   "name": "python",
   "nbconvert_exporter": "python",
   "pygments_lexer": "ipython3",
   "version": "3.9.13"
  }
 },
 "nbformat": 4,
 "nbformat_minor": 5
}
